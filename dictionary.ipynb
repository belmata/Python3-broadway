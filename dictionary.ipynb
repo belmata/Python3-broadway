{
 "cells": [
  {
   "cell_type": "code",
   "execution_count": 1,
   "id": "4d5f9168",
   "metadata": {},
   "outputs": [],
   "source": [
    "#dictionary\n",
    "# -indexed\n",
    "# -ordered\n",
    "# -duplicate value but no duplicate key\n",
    "# -mutable\n",
    "# -notation by curly bractey\n",
    "#- no slicing"
   ]
  },
  {
   "cell_type": "code",
   "execution_count": 2,
   "id": "73f4c1c4",
   "metadata": {},
   "outputs": [
    {
     "data": {
      "text/plain": [
       "dict"
      ]
     },
     "execution_count": 2,
     "metadata": {},
     "output_type": "execute_result"
    }
   ],
   "source": [
    "# a={<key>:value,<key>:<value>,...}\n",
    "a={'a':'apple','b':'ball'}\n",
    "#a is key and apple is value\n",
    "type(a)"
   ]
  },
  {
   "cell_type": "code",
   "execution_count": 3,
   "id": "9e7554bb",
   "metadata": {},
   "outputs": [
    {
     "data": {
      "text/plain": [
       "dict"
      ]
     },
     "execution_count": 3,
     "metadata": {},
     "output_type": "execute_result"
    }
   ],
   "source": [
    "a={}\n",
    "type(a)"
   ]
  },
  {
   "cell_type": "code",
   "execution_count": 4,
   "id": "c9cd36b1",
   "metadata": {},
   "outputs": [
    {
     "name": "stdout",
     "output_type": "stream",
     "text": [
      "apple\n"
     ]
    }
   ],
   "source": [
    "a={'a':'apple','b':'ball','c':'cat'}\n",
    "print(a['a'])"
   ]
  },
  {
   "cell_type": "code",
   "execution_count": 5,
   "id": "c81d0e45",
   "metadata": {},
   "outputs": [
    {
     "name": "stdout",
     "output_type": "stream",
     "text": [
      "apple\n"
     ]
    }
   ],
   "source": [
    "a={'a':'apple','b':'ball','c':'cat'}\n",
    "print(a['a'])\n"
   ]
  },
  {
   "cell_type": "code",
   "execution_count": 6,
   "id": "47fca3e4",
   "metadata": {},
   "outputs": [
    {
     "data": {
      "text/plain": [
       "{'a': 'apple', 'b': 'ball', 'c': 'cat', 'B': 'banana'}"
      ]
     },
     "execution_count": 6,
     "metadata": {},
     "output_type": "execute_result"
    }
   ],
   "source": [
    "a={'a':'apple','b':'ball','c':'cat','B':'banana'}\n",
    "a"
   ]
  },
  {
   "cell_type": "code",
   "execution_count": 7,
   "id": "369cd0f5",
   "metadata": {},
   "outputs": [
    {
     "data": {
      "text/plain": [
       "{'a': 'apple', 'b': 'banana', 'c': 'cat'}"
      ]
     },
     "execution_count": 7,
     "metadata": {},
     "output_type": "execute_result"
    }
   ],
   "source": [
    "a={'a':'apple','b':'ball','c':'cat','b':'banana'}\n",
    "a"
   ]
  },
  {
   "cell_type": "code",
   "execution_count": 8,
   "id": "d2b792e0",
   "metadata": {},
   "outputs": [
    {
     "data": {
      "text/plain": [
       "{'a': 'ant', 'b': 'ball', 'c': 'cat'}"
      ]
     },
     "execution_count": 8,
     "metadata": {},
     "output_type": "execute_result"
    }
   ],
   "source": [
    "a={}\n",
    "a['a']='apple'\n",
    "a['b']='ball'\n",
    "a['c']='cat'\n",
    "a['a']='ant'\n",
    "a"
   ]
  },
  {
   "cell_type": "code",
   "execution_count": 10,
   "id": "26fc0ffb",
   "metadata": {},
   "outputs": [
    {
     "name": "stdout",
     "output_type": "stream",
     "text": [
      "enter n2\n",
      "enetr name=ram\n",
      "enter phone= 98457635\n",
      "enetr name=shyam\n",
      "enter phone= 365785\n",
      "{'ram': 98457635, 'shyam': 365785}\n"
     ]
    }
   ],
   "source": [
    "d={}\n",
    "n=int(input('enter n'))\n",
    "for i in range(n):\n",
    "    name=input('enetr name=')\n",
    "    phone=int(input('enter phone= '))\n",
    "    key= name\n",
    "    value=phone\n",
    "    d[key]=value\n",
    "print(d)\n"
   ]
  },
  {
   "cell_type": "code",
   "execution_count": 3,
   "id": "4c2a3446",
   "metadata": {},
   "outputs": [
    {
     "ename": "SyntaxError",
     "evalue": "invalid syntax (<ipython-input-3-8114ae528f1b>, line 2)",
     "output_type": "error",
     "traceback": [
      "\u001b[1;36m  File \u001b[1;32m\"<ipython-input-3-8114ae528f1b>\"\u001b[1;36m, line \u001b[1;32m2\u001b[0m\n\u001b[1;33m    a= dict(b)\u001b[0m\n\u001b[1;37m    ^\u001b[0m\n\u001b[1;31mSyntaxError\u001b[0m\u001b[1;31m:\u001b[0m invalid syntax\n"
     ]
    }
   ],
   "source": [
    "b=([('ram,985623'),('syam',985682300)]\n",
    "a= dict(b)\n",
    "a "
   ]
  },
  {
   "cell_type": "code",
   "execution_count": 5,
   "id": "5837684c",
   "metadata": {},
   "outputs": [
    {
     "data": {
      "text/plain": [
       "['ram', 'syam']"
      ]
     },
     "execution_count": 5,
     "metadata": {},
     "output_type": "execute_result"
    }
   ],
   "source": [
    "a={'ram':985623,'syam':985682300}\n",
    "list(a)\n",
    "# for i in b.items():\n",
    "#     print(i)\n",
    "\n",
    "\n",
    "\n",
    "\n"
   ]
  },
  {
   "cell_type": "code",
   "execution_count": 19,
   "id": "2337ac2b",
   "metadata": {},
   "outputs": [
    {
     "ename": "AttributeError",
     "evalue": "'dict' object has no attribute 'value'",
     "output_type": "error",
     "traceback": [
      "\u001b[1;31m---------------------------------------------------------------------------\u001b[0m",
      "\u001b[1;31mAttributeError\u001b[0m                            Traceback (most recent call last)",
      "\u001b[1;32m<ipython-input-19-edd8e7818a66>\u001b[0m in \u001b[0;36m<module>\u001b[1;34m\u001b[0m\n\u001b[0;32m      1\u001b[0m \u001b[0mb\u001b[0m\u001b[1;33m=\u001b[0m\u001b[1;33m{\u001b[0m\u001b[1;34m'ram'\u001b[0m\u001b[1;33m:\u001b[0m\u001b[1;34m'985623'\u001b[0m\u001b[1;33m,\u001b[0m\u001b[1;34m'syam'\u001b[0m\u001b[1;33m:\u001b[0m\u001b[1;34m'985682300'\u001b[0m\u001b[1;33m}\u001b[0m\u001b[1;33m\u001b[0m\u001b[1;33m\u001b[0m\u001b[0m\n\u001b[1;32m----> 2\u001b[1;33m \u001b[1;32mfor\u001b[0m \u001b[0mi\u001b[0m \u001b[1;32min\u001b[0m \u001b[0mb\u001b[0m\u001b[1;33m.\u001b[0m\u001b[0mvalue\u001b[0m\u001b[1;33m(\u001b[0m\u001b[1;33m)\u001b[0m\u001b[1;33m:\u001b[0m\u001b[1;33m\u001b[0m\u001b[1;33m\u001b[0m\u001b[0m\n\u001b[0m\u001b[0;32m      3\u001b[0m     \u001b[0mprint\u001b[0m\u001b[1;33m(\u001b[0m\u001b[0mi\u001b[0m\u001b[1;33m)\u001b[0m\u001b[1;33m\u001b[0m\u001b[1;33m\u001b[0m\u001b[0m\n",
      "\u001b[1;31mAttributeError\u001b[0m: 'dict' object has no attribute 'value'"
     ]
    }
   ],
   "source": [
    "b={'ram':'985623','syam':'985682300'}\n",
    "for i in b.value():\n",
    "    print(i)\n"
   ]
  },
  {
   "cell_type": "code",
   "execution_count": 20,
   "id": "e9bba048",
   "metadata": {},
   "outputs": [
    {
     "ename": "TypeError",
     "evalue": "unsupported operand type(s) for +: 'dict' and 'dict'",
     "output_type": "error",
     "traceback": [
      "\u001b[1;31m---------------------------------------------------------------------------\u001b[0m",
      "\u001b[1;31mTypeError\u001b[0m                                 Traceback (most recent call last)",
      "\u001b[1;32m<ipython-input-20-f76e6f699a22>\u001b[0m in \u001b[0;36m<module>\u001b[1;34m\u001b[0m\n\u001b[0;32m      1\u001b[0m \u001b[0ma\u001b[0m\u001b[1;33m=\u001b[0m\u001b[1;33m{\u001b[0m\u001b[1;34m'ram'\u001b[0m\u001b[1;33m:\u001b[0m\u001b[1;36m985623\u001b[0m\u001b[1;33m,\u001b[0m\u001b[1;34m'syam'\u001b[0m\u001b[1;33m:\u001b[0m\u001b[1;36m985682300\u001b[0m\u001b[1;33m}\u001b[0m\u001b[1;33m\u001b[0m\u001b[1;33m\u001b[0m\u001b[0m\n\u001b[0;32m      2\u001b[0m \u001b[0mb\u001b[0m\u001b[1;33m=\u001b[0m\u001b[1;33m{\u001b[0m\u001b[1;34m'hari'\u001b[0m\u001b[1;33m:\u001b[0m\u001b[1;36m98756613\u001b[0m\u001b[1;33m}\u001b[0m\u001b[1;33m\u001b[0m\u001b[1;33m\u001b[0m\u001b[0m\n\u001b[1;32m----> 3\u001b[1;33m \u001b[0mprint\u001b[0m\u001b[1;33m(\u001b[0m\u001b[0ma\u001b[0m\u001b[1;33m+\u001b[0m\u001b[0mb\u001b[0m\u001b[1;33m)\u001b[0m\u001b[1;33m\u001b[0m\u001b[1;33m\u001b[0m\u001b[0m\n\u001b[0m",
      "\u001b[1;31mTypeError\u001b[0m: unsupported operand type(s) for +: 'dict' and 'dict'"
     ]
    }
   ],
   "source": [
    "a={'ram':985623,'syam':985682300}\n",
    "b={'hari':98756613}\n",
    "print(a+b)\n"
   ]
  },
  {
   "cell_type": "code",
   "execution_count": 22,
   "id": "b08d38fd",
   "metadata": {},
   "outputs": [
    {
     "data": {
      "text/plain": [
       "{'ram': 985623, 'syam': 985682300, 'hari': 98756613}"
      ]
     },
     "execution_count": 22,
     "metadata": {},
     "output_type": "execute_result"
    }
   ],
   "source": [
    "a={'ram':985623,'syam':985682300}\n",
    "b={'hari':98756613}\n",
    "a.update(b)\n",
    "a"
   ]
  },
  {
   "cell_type": "code",
   "execution_count": 23,
   "id": "3ea7ccd4",
   "metadata": {},
   "outputs": [
    {
     "data": {
      "text/plain": [
       "{'syam': 985682300}"
      ]
     },
     "execution_count": 23,
     "metadata": {},
     "output_type": "execute_result"
    }
   ],
   "source": [
    "a={'ram':985623,'syam':985682300}\n",
    "del a['ram']\n",
    "a"
   ]
  },
  {
   "cell_type": "code",
   "execution_count": 12,
   "id": "2c1ed087",
   "metadata": {},
   "outputs": [
    {
     "ename": "AttributeError",
     "evalue": "'dict' object has no attribute 'remove'",
     "output_type": "error",
     "traceback": [
      "\u001b[1;31m---------------------------------------------------------------------------\u001b[0m",
      "\u001b[1;31mAttributeError\u001b[0m                            Traceback (most recent call last)",
      "\u001b[1;32m<ipython-input-12-758d5f1bf6c9>\u001b[0m in \u001b[0;36m<module>\u001b[1;34m\u001b[0m\n\u001b[0;32m      1\u001b[0m \u001b[0ma\u001b[0m\u001b[1;33m=\u001b[0m\u001b[1;33m{\u001b[0m\u001b[1;34m'ram'\u001b[0m\u001b[1;33m:\u001b[0m\u001b[1;36m985623\u001b[0m\u001b[1;33m,\u001b[0m\u001b[1;34m'syam'\u001b[0m\u001b[1;33m:\u001b[0m\u001b[1;36m985682300\u001b[0m\u001b[1;33m}\u001b[0m\u001b[1;33m\u001b[0m\u001b[1;33m\u001b[0m\u001b[0m\n\u001b[1;32m----> 2\u001b[1;33m \u001b[0ma\u001b[0m\u001b[1;33m.\u001b[0m\u001b[0mremove\u001b[0m\u001b[1;33m(\u001b[0m\u001b[1;34m'ram'\u001b[0m\u001b[1;33m)\u001b[0m\u001b[1;33m\u001b[0m\u001b[1;33m\u001b[0m\u001b[0m\n\u001b[0m\u001b[0;32m      3\u001b[0m \u001b[0ma\u001b[0m\u001b[1;33m\u001b[0m\u001b[1;33m\u001b[0m\u001b[0m\n",
      "\u001b[1;31mAttributeError\u001b[0m: 'dict' object has no attribute 'remove'"
     ]
    }
   ],
   "source": [
    "a={'ram':985623,'syam':985682300}\n",
    "a.remove('ram')\n",
    "a"
   ]
  },
  {
   "cell_type": "code",
   "execution_count": 6,
   "id": "26f0875b",
   "metadata": {},
   "outputs": [
    {
     "data": {
      "text/plain": [
       "('ram', 'syam')"
      ]
     },
     "execution_count": 6,
     "metadata": {},
     "output_type": "execute_result"
    }
   ],
   "source": [
    "a={'ram':985623,'syam':985682300}\n",
    "tuple(a)"
   ]
  },
  {
   "cell_type": "code",
   "execution_count": 9,
   "id": "6f3ac197",
   "metadata": {},
   "outputs": [
    {
     "name": "stdout",
     "output_type": "stream",
     "text": [
      "985623\n",
      "985682300\n"
     ]
    }
   ],
   "source": [
    "a={'ram':985623,'syam':985682300} # for reading value\n",
    "for i in a.values():\n",
    "    print(i)\n"
   ]
  },
  {
   "cell_type": "code",
   "execution_count": 10,
   "id": "c95c620c",
   "metadata": {},
   "outputs": [
    {
     "name": "stdout",
     "output_type": "stream",
     "text": [
      "('ram', 985623)\n",
      "('syam', 985682300)\n"
     ]
    }
   ],
   "source": [
    "a={'ram':985623,'syam':985682300} # for reading value abd key\n",
    "for i in a.items():\n",
    "    print(i)\n"
   ]
  },
  {
   "cell_type": "code",
   "execution_count": 13,
   "id": "65596d4d",
   "metadata": {},
   "outputs": [
    {
     "data": {
      "text/plain": [
       "{'syam': 985682300}"
      ]
     },
     "execution_count": 13,
     "metadata": {},
     "output_type": "execute_result"
    }
   ],
   "source": [
    "a={'ram':985623,'syam':985682300}\n",
    "a.pop('ram')\n",
    "a"
   ]
  },
  {
   "cell_type": "code",
   "execution_count": 14,
   "id": "02657e16",
   "metadata": {},
   "outputs": [
    {
     "data": {
      "text/plain": [
       "{('ram', 'hari'): 985623, 'syam': 985682300}"
      ]
     },
     "execution_count": 14,
     "metadata": {},
     "output_type": "execute_result"
    }
   ],
   "source": [
    "# keys are always imutable objects\n",
    "a={('ram','hari'):985623,'syam':985682300}\n",
    "a\n"
   ]
  },
  {
   "cell_type": "code",
   "execution_count": 15,
   "id": "bc86189c",
   "metadata": {},
   "outputs": [
    {
     "data": {
      "text/plain": [
       "985623"
      ]
     },
     "execution_count": 15,
     "metadata": {},
     "output_type": "execute_result"
    }
   ],
   "source": [
    "a[('ram','hari')]"
   ]
  },
  {
   "cell_type": "code",
   "execution_count": 16,
   "id": "fa15e198",
   "metadata": {},
   "outputs": [],
   "source": [
    "#list inside dictionary// \n",
    "a={'ram':[985623,98020710049],'syam':[985682300,9847993418]}"
   ]
  },
  {
   "cell_type": "code",
   "execution_count": 22,
   "id": "ce8c13fa",
   "metadata": {},
   "outputs": [
    {
     "ename": "IndentationError",
     "evalue": "unexpected indent (<ipython-input-22-0bbe7f26a468>, line 7)",
     "output_type": "error",
     "traceback": [
      "\u001b[1;36m  File \u001b[1;32m\"<ipython-input-22-0bbe7f26a468>\"\u001b[1;36m, line \u001b[1;32m7\u001b[0m\n\u001b[1;33m    a={'ram':(985623,98020710049),'syam':(985682300,9847993418)}\u001b[0m\n\u001b[1;37m    ^\u001b[0m\n\u001b[1;31mIndentationError\u001b[0m\u001b[1;31m:\u001b[0m unexpected indent\n"
     ]
    }
   ],
   "source": [
    "# dict inside list\n",
    "a=[{'ram':9845631279},\n",
    "  {'shyam':985632145}]\n",
    "\n",
    "\n",
    "# tuple inside dict\n",
    " a={'ram':(985623,98020710049),'syam':(985682300,9847993418)}\n",
    "    \n",
    "    \n",
    "    \n",
    "# dict inside tuple\n",
    "a=({'ram':98456133},\n",
    "  {'shyam':954766325})\n",
    "\n",
    "# dict inside dict\n",
    "\n",
    "a={ 'ram':{'ntc':98456,'ncell':9845635},\n",
    "     'shyam:{'ntc':9845623,'ncell':98546123}}\n",
    "a"
   ]
  },
  {
   "cell_type": "code",
   "execution_count": null,
   "id": "5bb6fb97",
   "metadata": {},
   "outputs": [],
   "source": []
  },
  {
   "cell_type": "code",
   "execution_count": null,
   "id": "993fd685",
   "metadata": {},
   "outputs": [],
   "source": []
  },
  {
   "cell_type": "code",
   "execution_count": 23,
   "id": "d59d2e2d",
   "metadata": {},
   "outputs": [
    {
     "name": "stdout",
     "output_type": "stream",
     "text": [
      "{'ram': [98456935, 985645263], 'shyam': [98652348, 123569874]}\n"
     ]
    }
   ],
   "source": [
    "# Day2\n",
    "a={'ram':[98456935,985645263],'shyam':[98652348,123569874]}\n",
    "print(a)\n"
   ]
  },
  {
   "cell_type": "code",
   "execution_count": 24,
   "id": "c86d64e3",
   "metadata": {},
   "outputs": [
    {
     "name": "stdout",
     "output_type": "stream",
     "text": [
      "[98456935, 985645263]\n"
     ]
    }
   ],
   "source": [
    "a={'ram':[98456935,985645263],'shyam':[98652348,123569874]}\n",
    "print(a['ram'])\n"
   ]
  },
  {
   "cell_type": "code",
   "execution_count": 25,
   "id": "2489b61b",
   "metadata": {},
   "outputs": [
    {
     "data": {
      "text/plain": [
       "{'ram': [98456936, 985645264], 'shyam': [98652348, 123569874]}"
      ]
     },
     "execution_count": 25,
     "metadata": {},
     "output_type": "execute_result"
    }
   ],
   "source": [
    "a={'ram':[98456935,985645263],'shyam':[98652348,123569874]}\n",
    "a['ram']=[98456936,985645264]\n",
    "a"
   ]
  },
  {
   "cell_type": "code",
   "execution_count": 27,
   "id": "6640a030",
   "metadata": {},
   "outputs": [
    {
     "data": {
      "text/plain": [
       "{'ram': [98456936, 985645263], 'shyam': [98652348, 123569874]}"
      ]
     },
     "execution_count": 27,
     "metadata": {},
     "output_type": "execute_result"
    }
   ],
   "source": [
    "a={'ram':[98456935,985645263],'shyam':[98652348,123569874]}\n",
    "a['ram'][0]=98456936\n",
    "a"
   ]
  },
  {
   "cell_type": "code",
   "execution_count": 28,
   "id": "19c8ff84",
   "metadata": {},
   "outputs": [
    {
     "data": {
      "text/plain": [
       "{'ram': [985645263], 'shyam': [98652348, 123569874]}"
      ]
     },
     "execution_count": 28,
     "metadata": {},
     "output_type": "execute_result"
    }
   ],
   "source": [
    "a={'ram':[98456935,985645263],'shyam':[98652348,123569874]}\n",
    "del a['ram'][0]\n",
    "a"
   ]
  },
  {
   "cell_type": "code",
   "execution_count": 29,
   "id": "c5d4834e",
   "metadata": {},
   "outputs": [
    {
     "data": {
      "text/plain": [
       "{'ram': [98456935, 985645263, 458863], 'shyam': [98652348, 123569874]}"
      ]
     },
     "execution_count": 29,
     "metadata": {},
     "output_type": "execute_result"
    }
   ],
   "source": [
    "a={'ram':[98456935,985645263],'shyam':[98652348,123569874]}\n",
    "a['ram'].append(458863)\n",
    "a"
   ]
  },
  {
   "cell_type": "code",
   "execution_count": 30,
   "id": "3b75b4e7",
   "metadata": {},
   "outputs": [
    {
     "data": {
      "text/plain": [
       "{'ram': 9845635}"
      ]
     },
     "execution_count": 30,
     "metadata": {},
     "output_type": "execute_result"
    }
   ],
   "source": [
    "#dict inside list\n",
    "a=[{'ram':9845635},{'shyam':4563250}]\n",
    "a[0]"
   ]
  },
  {
   "cell_type": "code",
   "execution_count": 31,
   "id": "59337228",
   "metadata": {},
   "outputs": [
    {
     "data": {
      "text/plain": [
       "{'shyam': 4563250}"
      ]
     },
     "execution_count": 31,
     "metadata": {},
     "output_type": "execute_result"
    }
   ],
   "source": [
    "a[1]"
   ]
  },
  {
   "cell_type": "code",
   "execution_count": 32,
   "id": "ecfbb0fb",
   "metadata": {},
   "outputs": [
    {
     "name": "stdout",
     "output_type": "stream",
     "text": [
      "{'ram': 9845635}\n",
      "{'shyam': 4563250}\n"
     ]
    }
   ],
   "source": [
    "a=[{'ram':9845635},{'shyam':4563250}]\n",
    "for i in a:\n",
    "    print(i)"
   ]
  },
  {
   "cell_type": "code",
   "execution_count": 33,
   "id": "e5d5f1c3",
   "metadata": {},
   "outputs": [
    {
     "name": "stdout",
     "output_type": "stream",
     "text": [
      "enter n=2\n",
      "enter name=ram\n",
      "enter ntc no= 9856354\n",
      "enter ncell no= 98020563\n",
      "enter name=hari\n",
      "enter ntc no= 256987\n",
      "enter ncell no= 98025605\n",
      "[{'name': 'ram', 'ntc': 9856354, 'ncell': 98020563}, {'name': 'hari', 'ntc': 256987, 'ncell': 98025605}]\n"
     ]
    }
   ],
   "source": [
    "l=[]\n",
    "n=int(input('enter n='))\n",
    "for i in range(n):\n",
    "    name=input('enter name=')\n",
    "    ntc=int(input('enter ntc no= '))\n",
    "    ncell=int(input('enter ncell no= '))\n",
    "    d ={'name':name,'ntc':ntc,'ncell':ncell}\n",
    "    l.append(d)\n",
    "print(l)"
   ]
  },
  {
   "cell_type": "code",
   "execution_count": 34,
   "id": "7121a934",
   "metadata": {},
   "outputs": [
    {
     "name": "stdout",
     "output_type": "stream",
     "text": [
      "{'name': 'ram', 'ntc': 9856354, 'ncell': 98020563}\n",
      "{'name': 'hari', 'ntc': 256987, 'ncell': 98025605}\n"
     ]
    }
   ],
   "source": [
    "a=[{'name': 'ram', 'ntc': 9856354, 'ncell': 98020563},\n",
    "   {'name': 'hari', 'ntc': 256987, 'ncell': 98025605}]\n",
    "for i in a:\n",
    "    print(i)"
   ]
  },
  {
   "cell_type": "code",
   "execution_count": 35,
   "id": "2838c5a9",
   "metadata": {},
   "outputs": [
    {
     "name": "stdout",
     "output_type": "stream",
     "text": [
      "ram\n",
      "hari\n"
     ]
    }
   ],
   "source": [
    "a=[{'name': 'ram', 'ntc': 9856354, 'ncell': 98020563},\n",
    "   {'name': 'hari', 'ntc': 256987, 'ncell': 98025605}]\n",
    "for i in a:\n",
    "    print(i['name'])"
   ]
  },
  {
   "cell_type": "code",
   "execution_count": 36,
   "id": "d279b9f6",
   "metadata": {},
   "outputs": [
    {
     "name": "stdout",
     "output_type": "stream",
     "text": [
      "{'name': 'ram', 'ntc': 9856354, 'ncell': 98020563}\n"
     ]
    }
   ],
   "source": [
    "a=[{'name': 'ram', 'ntc': 9856354, 'ncell': 98020563},\n",
    "   {'name': 'hari', 'ntc': 256987, 'ncell': 98025605}]\n",
    "for i in a:\n",
    "    if i['name']=='ram':\n",
    "        print(i)\n"
   ]
  },
  {
   "cell_type": "code",
   "execution_count": 42,
   "id": "1d847d3f",
   "metadata": {},
   "outputs": [
    {
     "name": "stdout",
     "output_type": "stream",
     "text": [
      "enter name= hari\n",
      "{'name': 'hari', 'ntc': 256987, 'ncell': 98025605}\n"
     ]
    }
   ],
   "source": [
    "a=[{'name': 'ram', 'ntc': 9856354, 'ncell': 98020563},\n",
    "   {'name': 'hari', 'ntc': 256987, 'ncell': 98025605}]\n",
    "name=input('enter name= ')\n",
    "c=0\n",
    "for i in a:\n",
    "    if i['name']==name:\n",
    "        c+=1\n",
    "        print(i)\n",
    "if c==0:\n",
    "     print('not found')\n"
   ]
  },
  {
   "cell_type": "code",
   "execution_count": 43,
   "id": "6ce336bd",
   "metadata": {},
   "outputs": [
    {
     "data": {
      "text/plain": [
       "{'ram': {'ntc': 985625, 'ncell': 980202},\n",
       " 'shyam': {'ntc': 98564123, 'ncell': 980802563}}"
      ]
     },
     "execution_count": 43,
     "metadata": {},
     "output_type": "execute_result"
    }
   ],
   "source": [
    "#dict inside dict\n",
    "a={'ram':{'ntc':985625,'ncell':980202},\n",
    "  'shyam':{'ntc':98564123,'ncell':980802563}}\n",
    "a"
   ]
  },
  {
   "cell_type": "code",
   "execution_count": 44,
   "id": "97b8b6d5",
   "metadata": {},
   "outputs": [
    {
     "data": {
      "text/plain": [
       "{'ntc': 985625, 'ncell': 980202}"
      ]
     },
     "execution_count": 44,
     "metadata": {},
     "output_type": "execute_result"
    }
   ],
   "source": [
    "a['ram']"
   ]
  },
  {
   "cell_type": "code",
   "execution_count": 2,
   "id": "b2001301",
   "metadata": {},
   "outputs": [
    {
     "name": "stdout",
     "output_type": "stream",
     "text": [
      "ram\n",
      "985625\n"
     ]
    }
   ],
   "source": [
    "a={1:{'name':'ram','ntc':985625,'ncell':980202},\n",
    "  2:{'name':'ram','ntc':98564123,'ncell':980802563}}\n",
    "print(a[1]['name'])\n",
    "print(a[1]['ntc'])"
   ]
  },
  {
   "cell_type": "code",
   "execution_count": 46,
   "id": "c30240bc",
   "metadata": {},
   "outputs": [
    {
     "data": {
      "text/plain": [
       "{1: {'name': 'rama', 'ntc': 985625, 'ncell': 980202},\n",
       " 2: {'name': 'ram', 'ntc': 98564123, 'ncell': 980802563}}"
      ]
     },
     "execution_count": 46,
     "metadata": {},
     "output_type": "execute_result"
    }
   ],
   "source": [
    "a[1]['name']='rama'\n",
    "a"
   ]
  },
  {
   "cell_type": "code",
   "execution_count": 47,
   "id": "3d426d0d",
   "metadata": {},
   "outputs": [
    {
     "data": {
      "text/plain": [
       "{2: {'name': 'ram', 'ntc': 98564123, 'ncell': 980802563}}"
      ]
     },
     "execution_count": 47,
     "metadata": {},
     "output_type": "execute_result"
    }
   ],
   "source": [
    "a={1:{'name':'ram','ntc':985625,'ncell':980202},\n",
    "  2:{'name':'ram','ntc':98564123,'ncell':980802563}}\n",
    "del a[1]\n",
    "a"
   ]
  },
  {
   "cell_type": "code",
   "execution_count": 48,
   "id": "89ff133d",
   "metadata": {},
   "outputs": [
    {
     "data": {
      "text/plain": [
       "{1: {'name': 'ram', 'ntc': 985625, 'ncell': 980202},\n",
       " 2: {'name': 'shyam', 'ntc': 98564123, 'ncell': 980802563},\n",
       " 3: {'name': 'hari', 'ntc': 985641256, 'ncell': 9808025589}}"
      ]
     },
     "execution_count": 48,
     "metadata": {},
     "output_type": "execute_result"
    }
   ],
   "source": [
    "a={1:{'name':'ram','ntc':985625,'ncell':980202},\n",
    "  2:{'name':'shyam','ntc':98564123,'ncell':980802563}}\n",
    "a[3]={'name':'hari','ntc':985641256,'ncell':9808025589}\n",
    "a"
   ]
  },
  {
   "cell_type": "code",
   "execution_count": 49,
   "id": "34858f6d",
   "metadata": {},
   "outputs": [
    {
     "name": "stdout",
     "output_type": "stream",
     "text": [
      "(1, {'name': 'ram', 'ntc': 985625, 'ncell': 980202})\n",
      "(2, {'name': 'shyam', 'ntc': 98564123, 'ncell': 980802563})\n",
      "(3, {'name': 'hari', 'ntc': 985641256, 'ncell': 9808025589})\n"
     ]
    }
   ],
   "source": [
    "for i in a.items():\n",
    "    print(i)"
   ]
  },
  {
   "cell_type": "code",
   "execution_count": 50,
   "id": "1a965e29",
   "metadata": {},
   "outputs": [
    {
     "name": "stdout",
     "output_type": "stream",
     "text": [
      "{'name': 'ram', 'ntc': 985625, 'ncell': 980202}\n",
      "{'name': 'shyam', 'ntc': 98564123, 'ncell': 980802563}\n",
      "{'name': 'hari', 'ntc': 985641256, 'ncell': 9808025589}\n"
     ]
    }
   ],
   "source": [
    "for i in a.values():\n",
    "    print(i)"
   ]
  },
  {
   "cell_type": "code",
   "execution_count": 51,
   "id": "e142dd36",
   "metadata": {},
   "outputs": [
    {
     "name": "stdout",
     "output_type": "stream",
     "text": [
      "enter n=2\n",
      "enter name=ram\n",
      "enter ntc no= 98456\n",
      "enter ncell no= 98020\n",
      "enter name=shyam\n",
      "enter ntc no= 984563\n",
      "enter ncell no= 980245\n",
      "{1: {'name': 'ram', 'ntc': 98456, 'ncell': 98020}, 2: {'name': 'shyam', 'ntc': 984563, 'ncell': 980245}}\n"
     ]
    }
   ],
   "source": [
    "l={}\n",
    "n=int(input('enter n='))\n",
    "for i in range(1,n+1):\n",
    "    name=input('enter name=')\n",
    "    ntc=int(input('enter ntc no= '))\n",
    "    ncell=int(input('enter ncell no= '))\n",
    "    d ={'name':name,'ntc':ntc,'ncell':ncell}\n",
    "    l[i]=d\n",
    "print(l)\n",
    "\n",
    "\n",
    "\n",
    "\n",
    "\n",
    "\n",
    "\n"
   ]
  },
  {
   "cell_type": "code",
   "execution_count": null,
   "id": "cb5db0b3",
   "metadata": {},
   "outputs": [],
   "source": []
  }
 ],
 "metadata": {
  "kernelspec": {
   "display_name": "Python 3",
   "language": "python",
   "name": "python3"
  },
  "language_info": {
   "codemirror_mode": {
    "name": "ipython",
    "version": 3
   },
   "file_extension": ".py",
   "mimetype": "text/x-python",
   "name": "python",
   "nbconvert_exporter": "python",
   "pygments_lexer": "ipython3",
   "version": "3.8.8"
  }
 },
 "nbformat": 4,
 "nbformat_minor": 5
}
