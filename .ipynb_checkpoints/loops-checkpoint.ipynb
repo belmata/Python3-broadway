{
 "cells": [
  {
   "cell_type": "code",
   "execution_count": 1,
   "id": "dbdbff45",
   "metadata": {},
   "outputs": [
    {
     "name": "stdout",
     "output_type": "stream",
     "text": [
      "5\n",
      "10\n",
      "15\n",
      "20\n",
      "25\n",
      "30\n",
      "35\n",
      "40\n",
      "45\n",
      "50\n"
     ]
    }
   ],
   "source": [
    "for i in range(1,51):\n",
    "    if i%5 !=0:\n",
    "        continue\n",
    "    print(i)"
   ]
  },
  {
   "cell_type": "code",
   "execution_count": 2,
   "id": "647a5b8b",
   "metadata": {},
   "outputs": [],
   "source": [
    "#while"
   ]
  },
  {
   "cell_type": "code",
   "execution_count": 3,
   "id": "e38371f2",
   "metadata": {},
   "outputs": [],
   "source": [
    "#while condition:\n",
    "    #,operation"
   ]
  },
  {
   "cell_type": "code",
   "execution_count": 4,
   "id": "e62b88e7",
   "metadata": {},
   "outputs": [
    {
     "name": "stdout",
     "output_type": "stream",
     "text": [
      "hello world\n",
      "hello world\n",
      "hello world\n",
      "hello world\n",
      "hello world\n"
     ]
    }
   ],
   "source": [
    "a=0\n",
    "while(a<5):\n",
    "    print('hello world')\n",
    "    a+=1\n",
    "    "
   ]
  },
  {
   "cell_type": "code",
   "execution_count": 6,
   "id": "9f0d1030",
   "metadata": {},
   "outputs": [
    {
     "name": "stdout",
     "output_type": "stream",
     "text": [
      "0 hello world\n",
      "1 hello world\n",
      "2 hello world\n",
      "3 hello world\n",
      "4 hello world\n",
      "5 hello world\n"
     ]
    }
   ],
   "source": [
    "a=0\n",
    "while(a<=5):\n",
    "    print(a,'hello world')\n",
    "    a+=1"
   ]
  },
  {
   "cell_type": "code",
   "execution_count": 7,
   "id": "02a893d3",
   "metadata": {},
   "outputs": [
    {
     "name": "stdout",
     "output_type": "stream",
     "text": [
      "enter n =5\n",
      "5 * = 5\n",
      "5 * = 10\n",
      "5 * = 15\n",
      "5 * = 20\n",
      "5 * = 25\n",
      "5 * = 30\n",
      "5 * = 35\n",
      "5 * = 40\n",
      "5 * = 45\n",
      "5 * = 50\n"
     ]
    }
   ],
   "source": [
    "n=int(input('enter n ='))\n",
    "i=1\n",
    "while i<=10:\n",
    "    print(n,'*','=',n*i)\n",
    "    i+=1\n",
    "    "
   ]
  },
  {
   "cell_type": "code",
   "execution_count": 8,
   "id": "c65f77e1",
   "metadata": {},
   "outputs": [
    {
     "name": "stdout",
     "output_type": "stream",
     "text": [
      "enter n=5\n",
      "enter x=312\n",
      "enter x=254\n",
      "enter x=852\n",
      "enter x=963\n",
      "enter x=456\n",
      "2837\n"
     ]
    }
   ],
   "source": [
    "s=0\n",
    "n=int(input('enter n='))\n",
    "i=0\n",
    "while i<n:\n",
    "    x=int(input('enter x='))\n",
    "    s=s+x\n",
    "    i=i+1\n",
    "print(s)"
   ]
  },
  {
   "cell_type": "code",
   "execution_count": 10,
   "id": "25719f07",
   "metadata": {},
   "outputs": [
    {
     "name": "stdout",
     "output_type": "stream",
     "text": [
      "5\n",
      "10\n",
      "15\n",
      "20\n",
      "25\n",
      "30\n",
      "35\n",
      "40\n",
      "45\n",
      "50\n"
     ]
    }
   ],
   "source": [
    "i=1\n",
    "while i<=50:\n",
    "    if i%5==0:\n",
    "        print(i)\n",
    "    i+=1\n",
    "    "
   ]
  },
  {
   "cell_type": "code",
   "execution_count": 13,
   "id": "037a0c73",
   "metadata": {},
   "outputs": [
    {
     "name": "stdout",
     "output_type": "stream",
     "text": [
      "h\n",
      "e\n",
      "l\n",
      "l\n",
      "o\n",
      " \n",
      "w\n",
      "o\n",
      "r\n",
      "l\n",
      "d\n"
     ]
    }
   ],
   "source": [
    "a='hello world'\n",
    "l=len(a)\n",
    "b=0\n",
    "while b<l:\n",
    "    print(a[b])\n",
    "    b=b+1"
   ]
  },
  {
   "cell_type": "code",
   "execution_count": 14,
   "id": "976ffbc0",
   "metadata": {},
   "outputs": [
    {
     "name": "stdout",
     "output_type": "stream",
     "text": [
      "1\n",
      "4\n",
      "3\n",
      "5\n",
      "6\n",
      "7\n",
      "8\n"
     ]
    }
   ],
   "source": [
    "a=[1,4,3,5,6,7,8]\n",
    "l=len(a)\n",
    "b=0\n",
    "while b<l:\n",
    "    print(a[b])\n",
    "    b=b+1"
   ]
  },
  {
   "cell_type": "code",
   "execution_count": 15,
   "id": "2cc99a45",
   "metadata": {},
   "outputs": [
    {
     "name": "stdout",
     "output_type": "stream",
     "text": [
      "h\n",
      "e\n",
      "l\n",
      "l\n",
      "o\n"
     ]
    }
   ],
   "source": [
    "a='hello world'\n",
    "l=len(a)\n",
    "b=0\n",
    "while b<l:\n",
    "    if a[b]==' ':\n",
    "        break\n",
    "    print(a[b])\n",
    "    b=b+1\n",
    "    "
   ]
  },
  {
   "cell_type": "code",
   "execution_count": 1,
   "id": "74495f91",
   "metadata": {},
   "outputs": [
    {
     "name": "stdout",
     "output_type": "stream",
     "text": [
      "h\n",
      "e\n",
      "l\n",
      "l\n",
      "o\n",
      "w\n",
      "o\n",
      "r\n",
      "l\n",
      "d\n"
     ]
    }
   ],
   "source": [
    "a='hello world'\n",
    "l=len(a)\n",
    "b=0\n",
    "while b<l:\n",
    "    if a[b]==' ':\n",
    "        b=b+1\n",
    "        continue\n",
    "    print(a[b])\n",
    "    b=b+1\n",
    "    "
   ]
  },
  {
   "cell_type": "code",
   "execution_count": 1,
   "id": "83048efc",
   "metadata": {},
   "outputs": [
    {
     "name": "stdout",
     "output_type": "stream",
     "text": [
      "hello world\n"
     ]
    }
   ],
   "source": [
    "while True:\n",
    "    print('hello world')\n",
    "    break\n",
    "    "
   ]
  },
  {
   "cell_type": "code",
   "execution_count": 1,
   "id": "0d7626d3",
   "metadata": {},
   "outputs": [
    {
     "name": "stdout",
     "output_type": "stream",
     "text": [
      "b is greater 20\n"
     ]
    }
   ],
   "source": [
    "a=10\n",
    "b=20\n",
    "while a<b:\n",
    "    print('b is greater',b)\n",
    "    break\n",
    "    \n",
    "    "
   ]
  },
  {
   "cell_type": "code",
   "execution_count": 3,
   "id": "28105d63",
   "metadata": {},
   "outputs": [
    {
     "name": "stdout",
     "output_type": "stream",
     "text": [
      "i is not divisiable\n",
      "i is not divisiable\n",
      "i is not divisiable\n",
      "i is not divisiable\n",
      "i is not divisiable\n",
      "i is not divisiable\n",
      "i is not divisiable\n",
      "i is not divisiable\n",
      "i is not divisiable\n"
     ]
    }
   ],
   "source": [
    "for i in range(1,10):\n",
    "    if i%11==0:\n",
    "        print('i is divided')\n",
    "    else:\n",
    "        print('i is not divisiable')"
   ]
  },
  {
   "cell_type": "code",
   "execution_count": 5,
   "id": "5ebd076b",
   "metadata": {},
   "outputs": [
    {
     "name": "stdout",
     "output_type": "stream",
     "text": [
      "i is not divisiable\n"
     ]
    }
   ],
   "source": [
    "for i in range(1,10):   # if for lop vitra rakheko condition kahile trues vayana vane else can be use in for loop also\n",
    "    if i%11==0:\n",
    "        print('i is divided')\n",
    "else:\n",
    "    print('i is not divisiable')"
   ]
  },
  {
   "cell_type": "code",
   "execution_count": 6,
   "id": "b4d49743",
   "metadata": {},
   "outputs": [
    {
     "name": "stdout",
     "output_type": "stream",
     "text": [
      "i is divided\n"
     ]
    }
   ],
   "source": [
    "for i in range(1,10):# for else\n",
    "    if i%2==0:\n",
    "        print('i is divided')\n",
    "        break\n",
    "else:\n",
    "    print('i is not divisiable')"
   ]
  },
  {
   "cell_type": "code",
   "execution_count": 7,
   "id": "c4d45272",
   "metadata": {},
   "outputs": [
    {
     "name": "stdout",
     "output_type": "stream",
     "text": [
      "enter the n=5\n",
      "this is composite numbwer\n",
      "this is prime\n",
      "this is prime\n",
      "this is prime\n"
     ]
    }
   ],
   "source": [
    "n=int(input('enter the n='))\n",
    "for i in range(1,n):\n",
    "    if n%i==0:\n",
    "        print('this is composite numbwer')\n",
    "        \n",
    "    else:\n",
    "        print('this is prime')\n",
    "        "
   ]
  },
  {
   "cell_type": "code",
   "execution_count": null,
   "id": "e83af772",
   "metadata": {},
   "outputs": [],
   "source": [
    "n=int(input('enter the n='))\n",
    "for i in range(1,n):\n",
    "    if n%i==0:\n",
    "        print('this is composite numbwer')\n",
    "        \n",
    "    else:\n",
    "        print('this is prime')\n",
    "        "
   ]
  },
  {
   "cell_type": "code",
   "execution_count": 1,
   "id": "a11dc237",
   "metadata": {},
   "outputs": [],
   "source": [
    "#0 1 1 2 3 5 //8 13 fabbinaci deries and while else loop research"
   ]
  },
  {
   "cell_type": "code",
   "execution_count": 6,
   "id": "150c5c4f",
   "metadata": {},
   "outputs": [
    {
     "name": "stdout",
     "output_type": "stream",
     "text": [
      "enetr a number=10\n",
      "0 1  1  2  3  5  8  13  21  34  55"
     ]
    }
   ],
   "source": [
    "n=int(input('enetr a number='))\n",
    "p1=0\n",
    "p2=1\n",
    "print(p1,p2,end=\"\")\n",
    "for i in range(1,n):\n",
    "    sum1=p1+p2\n",
    "    print(' ',sum1, end='')\n",
    "    i+=1\n",
    "    p1=p2\n",
    "    p2=sum1\n",
    "    \n",
    "    "
   ]
  },
  {
   "cell_type": "code",
   "execution_count": null,
   "id": "b551f582",
   "metadata": {},
   "outputs": [],
   "source": []
  }
 ],
 "metadata": {
  "kernelspec": {
   "display_name": "Python 3",
   "language": "python",
   "name": "python3"
  },
  "language_info": {
   "codemirror_mode": {
    "name": "ipython",
    "version": 3
   },
   "file_extension": ".py",
   "mimetype": "text/x-python",
   "name": "python",
   "nbconvert_exporter": "python",
   "pygments_lexer": "ipython3",
   "version": "3.8.8"
  }
 },
 "nbformat": 4,
 "nbformat_minor": 5
}
