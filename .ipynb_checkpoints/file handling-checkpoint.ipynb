{
 "cells": [
  {
   "cell_type": "code",
   "execution_count": 1,
   "id": "e51b6a28",
   "metadata": {},
   "outputs": [],
   "source": [
    "#f = open('<file_name>','<mode>')"
   ]
  },
  {
   "cell_type": "code",
   "execution_count": 2,
   "id": "2ac68ad2",
   "metadata": {},
   "outputs": [],
   "source": [
    "f=open('data.txt','x') # create afile mode x\n",
    "\n",
    "f.close() #close file when u open file, its complusary to close file"
   ]
  },
  {
   "cell_type": "code",
   "execution_count": 3,
   "id": "49f8b349",
   "metadata": {},
   "outputs": [
    {
     "name": "stdout",
     "output_type": "stream",
     "text": [
      "1. hello world\n",
      "2. hello world\n",
      "3. hello world\n",
      "\n"
     ]
    }
   ],
   "source": [
    "f=open('data.txt','r')\n",
    "print(f.read())\n",
    "f.close()"
   ]
  },
  {
   "cell_type": "code",
   "execution_count": 4,
   "id": "366353c0",
   "metadata": {},
   "outputs": [
    {
     "name": "stdout",
     "output_type": "stream",
     "text": [
      "1. hello world\n",
      "\n"
     ]
    }
   ],
   "source": [
    "f=open('data.txt','r')\n",
    "print(f.readline()) # one line means whole paragraph before enter\n",
    "f.close()"
   ]
  },
  {
   "cell_type": "code",
   "execution_count": 5,
   "id": "adfc689b",
   "metadata": {},
   "outputs": [
    {
     "name": "stdout",
     "output_type": "stream",
     "text": [
      "1. hello w\n"
     ]
    }
   ],
   "source": [
    "f=open('data.txt','r')\n",
    "print(f.read(10)) # print 10 charcters\n",
    "f.close()"
   ]
  },
  {
   "cell_type": "code",
   "execution_count": 1,
   "id": "98c0bb29",
   "metadata": {},
   "outputs": [
    {
     "name": "stdout",
     "output_type": "stream",
     "text": [
      "enter n= 3\n",
      "\n"
     ]
    }
   ],
   "source": [
    "f=open('data.txt','r')\n",
    "n=int(input('enter n= '))\n",
    "total_line=7\n",
    "for i in range(1,total_line+1):\n",
    "    if i!=n:\n",
    "        f.readline()\n",
    "    else:\n",
    "        print(f.readline())\n",
    "\n",
    "#print(f.readline())\n",
    "f.close()"
   ]
  },
  {
   "cell_type": "code",
   "execution_count": 11,
   "id": "6a70ba4c",
   "metadata": {},
   "outputs": [
    {
     "name": "stdout",
     "output_type": "stream",
     "text": [
      "1. hello world\n",
      "2. hello world\n",
      "3. hello world\n",
      "4. hello world\n",
      "5. hello world\n",
      "6. hello world\n",
      "7. hello world\n",
      "\n",
      "<class 'str'>\n"
     ]
    }
   ],
   "source": [
    "f=open('data.txt','r')\n",
    "b=f.read()\n",
    "print(b)\n",
    "print(type(b))\n",
    "f.close()"
   ]
  },
  {
   "cell_type": "code",
   "execution_count": 12,
   "id": "bc500d6d",
   "metadata": {},
   "outputs": [
    {
     "data": {
      "text/plain": [
       "['1. hello world',\n",
       " '2. hello world',\n",
       " '3. hello world',\n",
       " '4. hello world',\n",
       " '5. hello world',\n",
       " '6. hello world',\n",
       " '7. hello world',\n",
       " '']"
      ]
     },
     "execution_count": 12,
     "metadata": {},
     "output_type": "execute_result"
    }
   ],
   "source": [
    "b.split('\\n')"
   ]
  },
  {
   "cell_type": "code",
   "execution_count": 14,
   "id": "b194f98b",
   "metadata": {},
   "outputs": [],
   "source": [
    "#adding the content(write mode) .previous data lai overwrite garxa, if pahile file xaina vane pahile file create garxa then write garxa it means wite and append is same\n",
    "f=open('data.txt','w')\n",
    "f.write('hello word')\n",
    "f.close()"
   ]
  },
  {
   "cell_type": "code",
   "execution_count": 4,
   "id": "d93aa0c1",
   "metadata": {},
   "outputs": [
    {
     "name": "stdout",
     "output_type": "stream",
     "text": [
      "enter n= 2\n",
      "enter name=apple\n",
      "enter price=100\n",
      "enter qty=3\n",
      "enter name=ball\n",
      "enter price=1008\n",
      "enter qty=8\n",
      "apple 100 3 300\n",
      "ball 1008 8 8064\n",
      "\n"
     ]
    }
   ],
   "source": [
    "f= open('bill.txt','w')\n",
    "n=int(input('enter n= '))\n",
    "data=str()\n",
    "net_price=0\n",
    "for i in range(n):\n",
    "    name=input('enter name=')\n",
    "    price=int(input('enter price='))\n",
    "    quantity=int(input('enter qty='))\n",
    "    total=price*quantity\n",
    "    \n",
    "    info=f\"{name} {price} {quantity} {total}\\n\"\n",
    "    data=data+info\n",
    "    net_price=net_price+total\n",
    "print(data)\n",
    "\n",
    "    \n",
    "f.write(data)\n",
    "f.close()"
   ]
  },
  {
   "cell_type": "code",
   "execution_count": 5,
   "id": "84e3f565",
   "metadata": {},
   "outputs": [
    {
     "name": "stdout",
     "output_type": "stream",
     "text": [
      "enter n= 2\n",
      "enter name=coke\n",
      "enter price=200\n",
      "enter qty=2\n",
      "enter name=jiuce\n",
      "enter price=25\n",
      "enter qty=25\n",
      "coke 200 2 400\n",
      "jiuce 25 25 625\n",
      "\n"
     ]
    }
   ],
   "source": [
    "f= open('bill.txt','a') # for adding bill to orevious bill\n",
    "n=int(input('enter n= '))\n",
    "data=str()\n",
    "net_price=0\n",
    "for i in range(n):\n",
    "    name=input('enter name=')\n",
    "    price=int(input('enter price='))\n",
    "    quantity=int(input('enter qty='))\n",
    "    total=price*quantity\n",
    "    \n",
    "    info=f\"{name} {price} {quantity} {total}\\n\"\n",
    "    data=data+info\n",
    "    net_price=net_price+total\n",
    "print(data)\n",
    "\n",
    "    \n",
    "f.write(data)\n",
    "f.close()"
   ]
  },
  {
   "cell_type": "code",
   "execution_count": 11,
   "id": "134e1a4b",
   "metadata": {},
   "outputs": [
    {
     "ename": "PermissionError",
     "evalue": "[Errno 13] Permission denied: 'bill.csv'",
     "output_type": "error",
     "traceback": [
      "\u001b[1;31m---------------------------------------------------------------------------\u001b[0m",
      "\u001b[1;31mPermissionError\u001b[0m                           Traceback (most recent call last)",
      "\u001b[1;32m<ipython-input-11-4595177ee0dd>\u001b[0m in \u001b[0;36m<module>\u001b[1;34m\u001b[0m\n\u001b[1;32m----> 1\u001b[1;33m \u001b[0mf\u001b[0m\u001b[1;33m=\u001b[0m \u001b[0mopen\u001b[0m\u001b[1;33m(\u001b[0m\u001b[1;34m'bill.csv'\u001b[0m\u001b[1;33m,\u001b[0m\u001b[1;34m'a'\u001b[0m\u001b[1;33m)\u001b[0m \u001b[1;31m# have to add column in CSV extension\u001b[0m\u001b[1;33m\u001b[0m\u001b[1;33m\u001b[0m\u001b[0m\n\u001b[0m\u001b[0;32m      2\u001b[0m \u001b[0mf\u001b[0m\u001b[1;33m.\u001b[0m\u001b[0mwrite\u001b[0m\u001b[1;33m(\u001b[0m\u001b[1;34m'Name, Price,Qty,Total\\n'\u001b[0m\u001b[1;33m)\u001b[0m\u001b[1;33m\u001b[0m\u001b[1;33m\u001b[0m\u001b[0m\n\u001b[0;32m      3\u001b[0m \u001b[0mn\u001b[0m\u001b[1;33m=\u001b[0m\u001b[0mint\u001b[0m\u001b[1;33m(\u001b[0m\u001b[0minput\u001b[0m\u001b[1;33m(\u001b[0m\u001b[1;34m'enter n= '\u001b[0m\u001b[1;33m)\u001b[0m\u001b[1;33m)\u001b[0m\u001b[1;33m\u001b[0m\u001b[1;33m\u001b[0m\u001b[0m\n\u001b[0;32m      4\u001b[0m \u001b[0mdata\u001b[0m\u001b[1;33m=\u001b[0m\u001b[0mstr\u001b[0m\u001b[1;33m(\u001b[0m\u001b[1;33m)\u001b[0m\u001b[1;33m\u001b[0m\u001b[1;33m\u001b[0m\u001b[0m\n\u001b[0;32m      5\u001b[0m \u001b[0mnet_price\u001b[0m\u001b[1;33m=\u001b[0m\u001b[1;36m0\u001b[0m\u001b[1;33m\u001b[0m\u001b[1;33m\u001b[0m\u001b[0m\n",
      "\u001b[1;31mPermissionError\u001b[0m: [Errno 13] Permission denied: 'bill.csv'"
     ]
    }
   ],
   "source": [
    "f= open('bill.csv','a') # have to add column in CSV extension\n",
    "f.write('Name, Price,Qty,Total\\n')\n",
    "n=int(input('enter n= '))\n",
    "data=str()\n",
    "net_price=0\n",
    "for i in range(n):\n",
    "    name=input('enter name=')\n",
    "    price=int(input('enter price='))\n",
    "    quantity=int(input('enter qty='))\n",
    "    total=price*quantity\n",
    "    \n",
    "    info=f\"{name},{price},{quantity},{total}\\n\" # need to separate by comman\n",
    "    data=data+info\n",
    "    net_price=net_price+total\n",
    "print(data)\n",
    "\n",
    "    \n",
    "f.write(data)\n",
    "f.close()"
   ]
  },
  {
   "cell_type": "code",
   "execution_count": null,
   "id": "a0c8e26d",
   "metadata": {},
   "outputs": [],
   "source": []
  }
 ],
 "metadata": {
  "kernelspec": {
   "display_name": "Python 3",
   "language": "python",
   "name": "python3"
  },
  "language_info": {
   "codemirror_mode": {
    "name": "ipython",
    "version": 3
   },
   "file_extension": ".py",
   "mimetype": "text/x-python",
   "name": "python",
   "nbconvert_exporter": "python",
   "pygments_lexer": "ipython3",
   "version": "3.8.8"
  }
 },
 "nbformat": 4,
 "nbformat_minor": 5
}
