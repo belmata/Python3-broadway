{
 "cells": [
  {
   "cell_type": "code",
   "execution_count": 2,
   "id": "0b261932",
   "metadata": {},
   "outputs": [],
   "source": [
    "import mysql.connector #package name\n",
    "#importing database\n",
    "database=mysql.connector.connect( # fucntion\n",
    "    host='localhost',\n",
    "    user='root',\n",
    "    password='',\n",
    "    database='class12pm' # database name which should be created in databse \n",
    ")\n",
    "db=database.cursor() # object banako"
   ]
  },
  {
   "cell_type": "code",
   "execution_count": 3,
   "id": "8be47a20",
   "metadata": {},
   "outputs": [
    {
     "name": "stdout",
     "output_type": "stream",
     "text": [
      "(1, 'belmata bahndari', 984799341, 'yes', datetime.datetime(2021, 7, 4, 12, 42, 2))\n",
      "(2, 'hari ', 982563145, 'yes', datetime.datetime(2021, 7, 4, 12, 42, 26))\n",
      "(3, 'ram', 98479934, 'yes', datetime.datetime(2021, 7, 4, 12, 45, 38))\n",
      "(1, 'belmata', 12365478, 'yes', datetime.datetime(2021, 7, 4, 12, 47, 34))\n"
     ]
    }
   ],
   "source": [
    "#selecting data from database\n",
    "db.execute(\"SELECT* FROM  account\") #table name\n",
    "result= db.fetchall()\n",
    "for x in result:\n",
    "    print(x)"
   ]
  },
  {
   "cell_type": "code",
   "execution_count": 4,
   "id": "61fffc26",
   "metadata": {},
   "outputs": [
    {
     "name": "stdout",
     "output_type": "stream",
     "text": [
      "(1, 'belmata bahndari', 984799341)\n",
      "(2, 'hari ', 982563145)\n",
      "(3, 'ram', 98479934)\n",
      "(1, 'belmata', 12365478)\n"
     ]
    }
   ],
   "source": [
    "\n",
    "db.execute(\"SELECT id,name,phone FROM  account\") #table name\n",
    "result= db.fetchall()\n",
    "for x in result:\n",
    "    print(x)"
   ]
  },
  {
   "cell_type": "code",
   "execution_count": 5,
   "id": "1847da3c",
   "metadata": {},
   "outputs": [
    {
     "name": "stdout",
     "output_type": "stream",
     "text": [
      "(1, 'belmata', 12365478, 'yes', datetime.datetime(2021, 7, 4, 12, 47, 34))\n"
     ]
    }
   ],
   "source": [
    "\n",
    "db.execute(\"SELECT* FROM  account where name='belmata'\")\n",
    "result= db.fetchall()\n",
    "for x in result:\n",
    "    print(x)"
   ]
  },
  {
   "cell_type": "code",
   "execution_count": 7,
   "id": "c30bf364",
   "metadata": {},
   "outputs": [
    {
     "name": "stdout",
     "output_type": "stream",
     "text": [
      "(1, 'belmata bahndari', 984799341, 'yes', datetime.datetime(2021, 7, 4, 12, 42, 2))\n",
      "(1, 'belmata', 12365478, 'yes', datetime.datetime(2021, 7, 4, 12, 47, 34))\n"
     ]
    }
   ],
   "source": [
    "db.execute(\"SELECT* FROM  account where id =1\")\n",
    "result= db.fetchall()\n",
    "for x in result:\n",
    "    print(x)"
   ]
  },
  {
   "cell_type": "code",
   "execution_count": 8,
   "id": "f0801d2d",
   "metadata": {},
   "outputs": [
    {
     "name": "stdout",
     "output_type": "stream",
     "text": [
      "('belmata', 12365478)\n"
     ]
    }
   ],
   "source": [
    "db.execute(\"SELECT name,phone FROM  account where name='belmata'\")\n",
    "result= db.fetchall()\n",
    "for x in result:\n",
    "    print(x)"
   ]
  },
  {
   "cell_type": "code",
   "execution_count": 10,
   "id": "ad03cd48",
   "metadata": {},
   "outputs": [
    {
     "name": "stdout",
     "output_type": "stream",
     "text": [
      "('belmata bahndari', 984799341)\n",
      "('belmata', 12365478)\n"
     ]
    }
   ],
   "source": [
    "#search\n",
    "db.execute(\"SELECT name,phone FROM  account where name like '%BELMATA%' \")# first and last dekhi similar\n",
    "result= db.fetchall()\n",
    "for x in result:\n",
    "    print(x)"
   ]
  },
  {
   "cell_type": "code",
   "execution_count": 11,
   "id": "79e2f379",
   "metadata": {},
   "outputs": [
    {
     "name": "stdout",
     "output_type": "stream",
     "text": [
      "enter account holder name= belmata\n",
      "('belmata bahndari', 984799341)\n",
      "('belmata', 12365478)\n"
     ]
    }
   ],
   "source": [
    "#search\n",
    "account=input('enter account holder name= ')\n",
    "db.execute(f\"SELECT name,phone FROM  account where name like '%{account}%' \")\n",
    "result= db.fetchall()\n",
    "for x in result:\n",
    "    print(x)"
   ]
  },
  {
   "cell_type": "code",
   "execution_count": 12,
   "id": "d58231b6",
   "metadata": {},
   "outputs": [
    {
     "name": "stdout",
     "output_type": "stream",
     "text": [
      "enter name= belmata\n",
      "('belmata', 12365478)\n"
     ]
    }
   ],
   "source": [
    "name=input('enter name= ')\n",
    "db.execute(f\"SELECT name,phone FROM  account where name='{name}'\")\n",
    "result= db.fetchall()\n",
    "for x in result:\n",
    "    print(x)"
   ]
  },
  {
   "cell_type": "code",
   "execution_count": 13,
   "id": "83eba936",
   "metadata": {},
   "outputs": [
    {
     "name": "stdout",
     "output_type": "stream",
     "text": [
      "enter id= 1\n",
      "(1, 'belmata bahndari', 984799341, 'yes', datetime.datetime(2021, 7, 4, 12, 42, 2))\n",
      "(1, 'belmata', 12365478, 'yes', datetime.datetime(2021, 7, 4, 12, 47, 34))\n"
     ]
    }
   ],
   "source": [
    "id=int(input('enter id= '))\n",
    "db.execute(f\"SELECT* FROM  account where id ={id}\")\n",
    "result= db.fetchall()\n",
    "for x in result:\n",
    "    print(x)"
   ]
  },
  {
   "cell_type": "code",
   "execution_count": 18,
   "id": "5fe610b8",
   "metadata": {},
   "outputs": [
    {
     "name": "stdout",
     "output_type": "stream",
     "text": [
      "enter id= 1\n",
      "SELECT* FROM  account where id =1\n",
      "(1, 'belmata bahndari', 984799341, 'yes', datetime.datetime(2021, 7, 4, 12, 42, 2))\n",
      "(1, 'belmata', 12365478, 'yes', datetime.datetime(2021, 7, 4, 12, 47, 34))\n"
     ]
    }
   ],
   "source": [
    "id=int(input('enter id= '))\n",
    "sql=f\"SELECT* FROM  account where id ={id}\"\n",
    "print(sql)\n",
    "db.execute(sql)\n",
    "result= db.fetchall()\n",
    "for x in result:\n",
    "    print(x)"
   ]
  },
  {
   "cell_type": "code",
   "execution_count": 25,
   "id": "9815cd81",
   "metadata": {},
   "outputs": [
    {
     "name": "stdout",
     "output_type": "stream",
     "text": [
      "enter nme= MUNA\n",
      "enter phone= 235689\n",
      "enter 'yes' or 'noYES\n",
      "enter total= 1000\n"
     ]
    }
   ],
   "source": [
    "name=input('enter nme= ')\n",
    "phone=int(input('enter phone= '))\n",
    "payment=input(\"enter 'yes' or 'no\")\n",
    "total=int(input('enter total= '))\n",
    "\n",
    "sql=f\"INSERT INTO account(name,phone,payment,total) VALUES('{name}',{phone},'{payment}',{total})\"\n",
    "db.execute(sql)\n",
    "database.commit()"
   ]
  },
  {
   "cell_type": "code",
   "execution_count": null,
   "id": "08c5ef12",
   "metadata": {},
   "outputs": [],
   "source": []
  }
 ],
 "metadata": {
  "kernelspec": {
   "display_name": "Python 3",
   "language": "python",
   "name": "python3"
  },
  "language_info": {
   "codemirror_mode": {
    "name": "ipython",
    "version": 3
   },
   "file_extension": ".py",
   "mimetype": "text/x-python",
   "name": "python",
   "nbconvert_exporter": "python",
   "pygments_lexer": "ipython3",
   "version": "3.8.8"
  }
 },
 "nbformat": 4,
 "nbformat_minor": 5
}
