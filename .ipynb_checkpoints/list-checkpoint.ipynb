{
 "cells": [
  {
   "cell_type": "code",
   "execution_count": 1,
   "id": "e7004af8",
   "metadata": {},
   "outputs": [],
   "source": [
    "#python data collection (important)\n",
    "#list\n",
    "#tuple\n",
    "#dictionary\n",
    "#set"
   ]
  },
  {
   "cell_type": "code",
   "execution_count": 2,
   "id": "5a94feb4",
   "metadata": {},
   "outputs": [],
   "source": [
    "#LIST"
   ]
  },
  {
   "cell_type": "code",
   "execution_count": 2,
   "id": "5b289ce0",
   "metadata": {},
   "outputs": [],
   "source": [
    "a=list()\n",
    "b=[]\n",
    "c=['apple','ball','cat','dog','fish']\n"
   ]
  },
  {
   "cell_type": "code",
   "execution_count": 4,
   "id": "06cdfb25",
   "metadata": {},
   "outputs": [
    {
     "name": "stdout",
     "output_type": "stream",
     "text": [
      "79214\n",
      "3\n",
      "76876\n",
      "[3, 45, 67, 234, 243, 768, 978, 76876]\n",
      "[76876, 978, 768, 243, 234, 67, 45, 3]\n"
     ]
    }
   ],
   "source": [
    "a=[3,45,67,768,243,76876,978,234]\n",
    "print(sum(a))\n",
    "print(min(a))\n",
    "print(max(a))\n",
    "a.sort()\n",
    "print(a)\n",
    "a.reverse()\n",
    "print(a)"
   ]
  },
  {
   "cell_type": "code",
   "execution_count": 5,
   "id": "13c32ac5",
   "metadata": {},
   "outputs": [
    {
     "name": "stdout",
     "output_type": "stream",
     "text": [
      "['Xray', 'apple', 'ball', 'zebra,']\n"
     ]
    }
   ],
   "source": [
    "a=['apple','zebra,','ball','Xray']\n",
    "a.sort()\n",
    "print(a)"
   ]
  },
  {
   "cell_type": "code",
   "execution_count": 6,
   "id": "edac614a",
   "metadata": {},
   "outputs": [
    {
     "name": "stdout",
     "output_type": "stream",
     "text": [
      "['Xray', 'apple', 'ball', 'zebra,']\n",
      "['apple', 'zebra,', 'ball', 'Xray']\n"
     ]
    }
   ],
   "source": [
    "#sorted()\n",
    "a=['apple','zebra,','ball','Xray']\n",
    "print(sorted(a))\n",
    "print(a)"
   ]
  },
  {
   "cell_type": "code",
   "execution_count": 7,
   "id": "dad31001",
   "metadata": {},
   "outputs": [
    {
     "name": "stdout",
     "output_type": "stream",
     "text": [
      "['apple', 'zebra,', 'ball', 'Xray', '2', 'fish']\n"
     ]
    }
   ],
   "source": [
    "a=['apple','zebra,','ball','Xray','2']\n",
    "a.append('fish')\n",
    "print(a)"
   ]
  },
  {
   "cell_type": "code",
   "execution_count": 8,
   "id": "c68b110f",
   "metadata": {},
   "outputs": [
    {
     "name": "stdout",
     "output_type": "stream",
     "text": [
      "None\n"
     ]
    }
   ],
   "source": [
    "print(a.append('fish'))\n"
   ]
  },
  {
   "cell_type": "code",
   "execution_count": 9,
   "id": "62a90457",
   "metadata": {},
   "outputs": [
    {
     "name": "stdout",
     "output_type": "stream",
     "text": [
      "['Apple', 'Zebra,', 'ball', 'fish', 'Xray', '1Rose', 'food', '2']\n"
     ]
    }
   ],
   "source": [
    "#insert() to add value in anywhere in the list\n",
    "a=['Apple','Zebra,','ball','Xray','1Rose','food','2']\n",
    "a.insert(3,'fish')\n",
    "print(a)"
   ]
  },
  {
   "cell_type": "code",
   "execution_count": 11,
   "id": "7b08cf32",
   "metadata": {},
   "outputs": [
    {
     "name": "stdout",
     "output_type": "stream",
     "text": [
      "enter a n=2\n",
      "enter name=belmata\n",
      "enter name=bhandari\n",
      "['belmata', 'bhandarai', 'belmata', 'bhandari']\n"
     ]
    }
   ],
   "source": [
    "#info=[]\n",
    "n=int(input('enter a n='))\n",
    "for i in range(n):\n",
    "    name=input('enter name=')\n",
    "    info.append(name)\n",
    "print(info)"
   ]
  },
  {
   "cell_type": "code",
   "execution_count": 12,
   "id": "3f36125d",
   "metadata": {},
   "outputs": [
    {
     "name": "stdout",
     "output_type": "stream",
     "text": [
      "7\n"
     ]
    }
   ],
   "source": [
    "#count() to fins the particular number count\n",
    "a=[1,22,3,4,5,6,3,4]\n",
    "l=len(a)\n",
    "print(l)"
   ]
  },
  {
   "cell_type": "code",
   "execution_count": 13,
   "id": "f67078b2",
   "metadata": {},
   "outputs": [
    {
     "name": "stdout",
     "output_type": "stream",
     "text": [
      "4\n"
     ]
    }
   ],
   "source": [
    "a=[1,22,3,4,5,6,3,4,4,4]\n",
    "l=a.count(4)\n",
    "print(l)"
   ]
  },
  {
   "cell_type": "code",
   "execution_count": 14,
   "id": "9e3a156d",
   "metadata": {},
   "outputs": [
    {
     "name": "stdout",
     "output_type": "stream",
     "text": [
      "1\n"
     ]
    }
   ],
   "source": [
    "a=[1,22,3,4,5,6,3,4,4,'4']\n",
    "l=a.count('4')\n",
    "print(l)"
   ]
  },
  {
   "cell_type": "code",
   "execution_count": 15,
   "id": "279ce0f0",
   "metadata": {},
   "outputs": [
    {
     "data": {
      "text/plain": [
       "'food'"
      ]
     },
     "execution_count": 15,
     "metadata": {},
     "output_type": "execute_result"
    }
   ],
   "source": [
    "a=['Apple','Zebra,','ball','Xray','1Rose','food','2']\n",
    "a[5]"
   ]
  },
  {
   "cell_type": "code",
   "execution_count": 16,
   "id": "5cea7fff",
   "metadata": {},
   "outputs": [
    {
     "name": "stdout",
     "output_type": "stream",
     "text": [
      "2\n"
     ]
    }
   ],
   "source": [
    "print(a.index('ball'))"
   ]
  },
  {
   "cell_type": "code",
   "execution_count": 18,
   "id": "c87e4cf6",
   "metadata": {},
   "outputs": [
    {
     "name": "stdout",
     "output_type": "stream",
     "text": [
      "2\n",
      "7\n",
      "2\n"
     ]
    }
   ],
   "source": [
    "a=['Apple','Zebra,','ball','Xray','1Rose','food','2','ball']\n",
    "l=len(a)\n",
    "for i in range(l):\n",
    "    if a[i]=='ball':\n",
    "        print(i)\n",
    "#print(a.index('ball'))"
   ]
  },
  {
   "cell_type": "code",
   "execution_count": 19,
   "id": "c2a021d7",
   "metadata": {},
   "outputs": [
    {
     "name": "stdout",
     "output_type": "stream",
     "text": [
      "['Apple', 'Zebra,', 'Ball', 'Xray', '1Rose', 'food', '2', 'Ball']\n"
     ]
    }
   ],
   "source": [
    "a=['Apple','Zebra,','ball','Xray','1Rose','food','2','ball']\n",
    "a[2]='Ball' # to update value\n",
    "a[-1]='Ball'\n",
    "print(a)\n"
   ]
  },
  {
   "cell_type": "code",
   "execution_count": 21,
   "id": "58d7d38c",
   "metadata": {},
   "outputs": [
    {
     "name": "stdout",
     "output_type": "stream",
     "text": [
      "enter x=ball\n",
      "enter y=Belmata\n",
      "['Apple', 'Zebra,', 'Belmata', 'Xray', '1Rose', 'food', '2', 'Belmata']\n"
     ]
    }
   ],
   "source": [
    "a=['Apple','Zebra,','ball','Xray','1Rose','food','2','ball']\n",
    "l=len(a)\n",
    "x=input('enter x=')\n",
    "y= input('enter y=')\n",
    "for i in range(l):\n",
    "    if  a[i]==x:\n",
    "        a[i]=y\n",
    "print(a)"
   ]
  },
  {
   "cell_type": "code",
   "execution_count": 22,
   "id": "18f23256",
   "metadata": {},
   "outputs": [
    {
     "name": "stdout",
     "output_type": "stream",
     "text": [
      "enter index=3\n",
      "['Apple', 'Zebra,', 'ball', '1Rose', 'food', '2', 'ball']\n"
     ]
    }
   ],
   "source": [
    "#del remove pop()\n",
    "a=['Apple','Zebra,','ball','Xray','1Rose','food','2','ball']\n",
    "i=int(input('enter index='))\n",
    "del a[i]\n",
    "print(a)"
   ]
  },
  {
   "cell_type": "code",
   "execution_count": 23,
   "id": "bc5b5cda",
   "metadata": {},
   "outputs": [
    {
     "name": "stdout",
     "output_type": "stream",
     "text": [
      "['Xray', '1Rose', 'food', '2', 'ball']\n"
     ]
    }
   ],
   "source": [
    "a=['Apple','Zebra,','ball','Xray','1Rose','food','2','ball']\n",
    "del a[0:3]\n",
    "print(a)"
   ]
  },
  {
   "cell_type": "code",
   "execution_count": 24,
   "id": "2a64da67",
   "metadata": {},
   "outputs": [
    {
     "name": "stdout",
     "output_type": "stream",
     "text": [
      "['Apple', 'Zebra,', 'Xray', '1Rose', 'food', '2', 'ball']\n"
     ]
    }
   ],
   "source": [
    "a=['Apple','Zebra,','ball','Xray','1Rose','food','2','ball']\n",
    "a.remove('ball')\n",
    "print(a)\n"
   ]
  },
  {
   "cell_type": "code",
   "execution_count": 25,
   "id": "ee8e7cf3",
   "metadata": {},
   "outputs": [
    {
     "name": "stdout",
     "output_type": "stream",
     "text": [
      "['Apple', 'Zebra,', 'ball', 'Xray', '1Rose', 'food', '2']\n"
     ]
    }
   ],
   "source": [
    "a=['Apple','Zebra,','ball','Xray','1Rose','food','2','ball']\n",
    "a.pop()\n",
    "print(a)"
   ]
  },
  {
   "cell_type": "code",
   "execution_count": 26,
   "id": "a2e99ac6",
   "metadata": {},
   "outputs": [
    {
     "name": "stdout",
     "output_type": "stream",
     "text": [
      "['Apple', 'Zebra,', 'ball', '1Rose', 'food', '2', 'ball']\n",
      "Xray\n"
     ]
    }
   ],
   "source": [
    "a=['Apple','Zebra,','ball','Xray','1Rose','food','2','ball']\n",
    "b=a.pop(3)\n",
    "print(a)\n",
    "print(b)"
   ]
  },
  {
   "cell_type": "code",
   "execution_count": 27,
   "id": "6f835927",
   "metadata": {},
   "outputs": [
    {
     "name": "stdout",
     "output_type": "stream",
     "text": [
      "['Apple', 'Zebra,', 'Xray', 'food', '2']\n"
     ]
    }
   ],
   "source": [
    "#for multiple valur deleting by pop\n",
    "a=['Apple','Zebra,','ball','Xray','ball','food','2','ball']\n",
    "l=a.count('ball')\n",
    "for i in range(l):\n",
    "    a.remove('ball')\n",
    "print(a)\n",
    "    "
   ]
  },
  {
   "cell_type": "code",
   "execution_count": 28,
   "id": "f164c51a",
   "metadata": {},
   "outputs": [
    {
     "name": "stdout",
     "output_type": "stream",
     "text": [
      "['Apple', 'Zebra,', 'Xray', 'food', '2']\n"
     ]
    }
   ],
   "source": [
    "b=[]\n",
    "a=['Apple','Zebra,','ball','Xray','ball','food','2','ball']\n",
    "for i in range (len(a)):\n",
    "    if a[i]=='ball':\n",
    "        continue # skip\n",
    "    b.append(a[i])\n",
    "print(b)"
   ]
  },
  {
   "cell_type": "code",
   "execution_count": 29,
   "id": "5e7e7e6b",
   "metadata": {},
   "outputs": [
    {
     "name": "stdout",
     "output_type": "stream",
     "text": [
      "['apple', 'zebra,', 'ball', 'xray', 'ball', 'food', '2', 'ball']\n"
     ]
    }
   ],
   "source": [
    "b=[]\n",
    "a=['Apple','Zebra,','Ball','Xray','ball','food','2','Ball']\n",
    "for i in a:\n",
    "    x=i.lower()\n",
    "    b.append(x)\n",
    "print(b)"
   ]
  },
  {
   "cell_type": "code",
   "execution_count": 31,
   "id": "ac96eb80",
   "metadata": {},
   "outputs": [
    {
     "name": "stdout",
     "output_type": "stream",
     "text": [
      "enter value c=ball\n",
      "3\n"
     ]
    }
   ],
   "source": [
    "b=0\n",
    "index=[]\n",
    "c=input('enter value c=')\n",
    "a=['Apple','Zebra,','Ball','Xray','ball','food','2','Ball']\n",
    "for i in a:\n",
    "    x=i.lower()\n",
    "    if x==c.lower():\n",
    "        b+=1\n",
    "        index.append(i)\n",
    "    \n",
    "print(b)"
   ]
  },
  {
   "cell_type": "code",
   "execution_count": 34,
   "id": "802aef83",
   "metadata": {},
   "outputs": [
    {
     "name": "stdout",
     "output_type": "stream",
     "text": [
      "enter value c=ball\n",
      "3\n",
      "[2, 4, 7]\n"
     ]
    }
   ],
   "source": [
    "b=0\n",
    "index=[]\n",
    "c=input('enter value c=')\n",
    "a=['Apple','Zebra,','Ball','Xray','ball','food','2','Ball']\n",
    "for i in range(len(a)):\n",
    "    x=a[i].lower()\n",
    "    if x==c.lower():\n",
    "        b+=1\n",
    "        index.append(i)\n",
    "    \n",
    "print(b)\n",
    "print(index)"
   ]
  },
  {
   "cell_type": "code",
   "execution_count": null,
   "id": "804c8c1a",
   "metadata": {},
   "outputs": [],
   "source": [
    "#multi-dimension list"
   ]
  },
  {
   "cell_type": "code",
   "execution_count": 1,
   "id": "006af837",
   "metadata": {},
   "outputs": [
    {
     "name": "stdout",
     "output_type": "stream",
     "text": [
      "3\n"
     ]
    }
   ],
   "source": [
    "d=[[1,2,3],[4,5,6],[7,8,9]]\n",
    "print(len(d))"
   ]
  },
  {
   "cell_type": "code",
   "execution_count": 2,
   "id": "cca7b08f",
   "metadata": {},
   "outputs": [
    {
     "data": {
      "text/plain": [
       "[1, 2, 3]"
      ]
     },
     "execution_count": 2,
     "metadata": {},
     "output_type": "execute_result"
    }
   ],
   "source": [
    "d[0]"
   ]
  },
  {
   "cell_type": "code",
   "execution_count": 3,
   "id": "dcae19fc",
   "metadata": {},
   "outputs": [
    {
     "data": {
      "text/plain": [
       "1"
      ]
     },
     "execution_count": 3,
     "metadata": {},
     "output_type": "execute_result"
    }
   ],
   "source": [
    "d[0][0]"
   ]
  },
  {
   "cell_type": "code",
   "execution_count": 6,
   "id": "90310488",
   "metadata": {},
   "outputs": [
    {
     "name": "stdout",
     "output_type": "stream",
     "text": [
      "enter n=2\n",
      "enter nameram\n",
      "enter age=45\n",
      "enter address=kathmandu\n",
      "enter nameshyam\n",
      "enter age=56\n",
      "enter address=lalitpur\n",
      "[['ram', 45, 'kathmandu'], ['shyam', 56, 'lalitpur']]\n"
     ]
    }
   ],
   "source": [
    "info=[]\n",
    "n=int(input('enter n='))\n",
    "for i in range(n):\n",
    "    name=input('enter name')\n",
    "    age=int(input('enter age='))\n",
    "    add= input('enter address=')\n",
    "    data=[name,age,add]\n",
    "    info.append(data)\n",
    "    \n",
    "print(info)"
   ]
  },
  {
   "cell_type": "code",
   "execution_count": 7,
   "id": "82976c0b",
   "metadata": {},
   "outputs": [
    {
     "name": "stdout",
     "output_type": "stream",
     "text": [
      "enter index=0\n",
      "['ram', 45, 'kathmandu']\n"
     ]
    }
   ],
   "source": [
    "index=int(input('enter index='))\n",
    "print(info[index])"
   ]
  },
  {
   "cell_type": "code",
   "execution_count": 8,
   "id": "1668693c",
   "metadata": {},
   "outputs": [
    {
     "name": "stdout",
     "output_type": "stream",
     "text": [
      "['ram,45,kathmadnu']\n",
      "['syam', 45, 'patan']\n",
      "['hari', 34, 'kathamdu']\n"
     ]
    }
   ],
   "source": [
    "a=[['ram,45,kathmadnu'],['syam',45,'patan'],['hari',34,'kathamdu']]\n",
    "for i in a:\n",
    "    print(i)"
   ]
  },
  {
   "cell_type": "code",
   "execution_count": 12,
   "id": "349cc92a",
   "metadata": {},
   "outputs": [
    {
     "name": "stdout",
     "output_type": "stream",
     "text": [
      "['ram,45,kathmadnu']\n",
      "['syam', 45, 'patan']\n",
      "['hari', 34, 'kathamdu']\n"
     ]
    }
   ],
   "source": [
    "for i in a:\n",
    "    print(i)\n",
    "    if 'ram'in i:\n",
    "        print(i)"
   ]
  },
  {
   "cell_type": "code",
   "execution_count": 16,
   "id": "d2284a50",
   "metadata": {},
   "outputs": [
    {
     "name": "stdout",
     "output_type": "stream",
     "text": [
      "enetr the n=2\n",
      "enter name=apple\n",
      "enter price=250\n",
      "enter qty=2\n",
      "enter name=orange\n",
      "enter price=300\n",
      "enter qty=3\n",
      "[['apple', 250, 2, 500], ['orange', 300, 3, 900]]\n",
      "1400\n"
     ]
    }
   ],
   "source": [
    "bill=[]\n",
    "net_price=0\n",
    "n=int(input('enetr the n='))\n",
    "for i in range(n):\n",
    "    name=input('enter name=')\n",
    "    price=int(input('enter price='))\n",
    "    quantity=int(input('enter qty='))\n",
    "    total=price*quantity\n",
    "    data=[name,price,quantity,total]\n",
    "    bill.append(data)\n",
    "    net_price=net_price+total\n",
    "print(bill)\n",
    "print(net_price)"
   ]
  },
  {
   "cell_type": "code",
   "execution_count": null,
   "id": "d3e3225c",
   "metadata": {},
   "outputs": [],
   "source": []
  }
 ],
 "metadata": {
  "kernelspec": {
   "display_name": "Python 3",
   "language": "python",
   "name": "python3"
  },
  "language_info": {
   "codemirror_mode": {
    "name": "ipython",
    "version": 3
   },
   "file_extension": ".py",
   "mimetype": "text/x-python",
   "name": "python",
   "nbconvert_exporter": "python",
   "pygments_lexer": "ipython3",
   "version": "3.8.8"
  }
 },
 "nbformat": 4,
 "nbformat_minor": 5
}
