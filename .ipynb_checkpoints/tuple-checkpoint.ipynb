{
 "cells": [
  {
   "cell_type": "code",
   "execution_count": 1,
   "id": "09c423bb",
   "metadata": {},
   "outputs": [],
   "source": [
    "#tuple( it follows indexing, duplicate members, odered,immutable)\n",
    "#-use small braket to represent tuple"
   ]
  },
  {
   "cell_type": "code",
   "execution_count": 4,
   "id": "d91a6a1f",
   "metadata": {},
   "outputs": [
    {
     "name": "stdout",
     "output_type": "stream",
     "text": [
      "(1, 2, 3, 4)\n",
      "('apple', 'ball', 'cat')\n"
     ]
    },
    {
     "data": {
      "text/plain": [
       "tuple"
      ]
     },
     "execution_count": 4,
     "metadata": {},
     "output_type": "execute_result"
    }
   ],
   "source": [
    "a=(1,2,3,4)\n",
    "b=('apple','ball', 'cat')\n",
    "print(a)\n",
    "print(b)\n",
    "type(a)\n",
    "   "
   ]
  },
  {
   "cell_type": "code",
   "execution_count": 6,
   "id": "ba9ed144",
   "metadata": {},
   "outputs": [
    {
     "name": "stdout",
     "output_type": "stream",
     "text": [
      "apple\n",
      "('apple', 'ball')\n",
      "('apple', 'cat')\n"
     ]
    }
   ],
   "source": [
    "b=('apple','ball', 'cat')\n",
    "print(b[0])\n",
    "print(b[0:2])\n",
    "print(b[0:3:2])"
   ]
  },
  {
   "cell_type": "code",
   "execution_count": 7,
   "id": "690faf18",
   "metadata": {},
   "outputs": [
    {
     "name": "stdout",
     "output_type": "stream",
     "text": [
      "('apple', 'ball', 'cat', 'apple', 'ball', 'cat')\n"
     ]
    }
   ],
   "source": [
    "#duplicate members\n",
    "b=('apple','ball', 'cat')\n",
    "print(b*2)"
   ]
  },
  {
   "cell_type": "code",
   "execution_count": 9,
   "id": "5bcd5bdb",
   "metadata": {},
   "outputs": [
    {
     "name": "stdout",
     "output_type": "stream",
     "text": [
      "('apple', 'ball', 'cat', 'bog')\n"
     ]
    }
   ],
   "source": [
    "b=('apple','ball', 'cat')\n",
    "c=('bog',) # for single member , is neccesaryt o represent as tuple otherwise it becam string\n",
    "d=b+c\n",
    "print(d)"
   ]
  },
  {
   "cell_type": "code",
   "execution_count": 1,
   "id": "133ff78d",
   "metadata": {},
   "outputs": [
    {
     "name": "stdout",
     "output_type": "stream",
     "text": [
      "enter 3\n",
      "enter x= aplle\n",
      "enter x= ball\n",
      "enter x= orange\n",
      "('aplle', 'ball', 'orange')\n"
     ]
    }
   ],
   "source": [
    "t=tuple()\n",
    "n=int(input('enter '))\n",
    "for i in range(n):\n",
    "    x=input('enter x= ')\n",
    "    t=t+(x,)\n",
    "print(t)\n",
    "    "
   ]
  },
  {
   "cell_type": "code",
   "execution_count": 2,
   "id": "0b12fba1",
   "metadata": {},
   "outputs": [
    {
     "data": {
      "text/plain": [
       "['aplle', 'ball', 'orange']"
      ]
     },
     "execution_count": 2,
     "metadata": {},
     "output_type": "execute_result"
    }
   ],
   "source": [
    "sorted(t #return as list"
   ]
  },
  {
   "cell_type": "code",
   "execution_count": 3,
   "id": "0ff2a430",
   "metadata": {},
   "outputs": [
    {
     "name": "stdout",
     "output_type": "stream",
     "text": [
      "enter 5\n",
      "enter x= 12\n",
      "enter x= 3\n",
      "enter x= 5\n",
      "enter x= 66\n",
      "enter x= 48\n",
      "(12, 3, 5, 66, 48)\n"
     ]
    }
   ],
   "source": [
    "t=tuple()\n",
    "n=int(input('enter '))\n",
    "for i in range(n):\n",
    "    x=int(input('enter x= '))\n",
    "    t=t+(x,)\n",
    "print(t)\n",
    "    "
   ]
  },
  {
   "cell_type": "code",
   "execution_count": 4,
   "id": "aafc2e80",
   "metadata": {},
   "outputs": [
    {
     "name": "stdout",
     "output_type": "stream",
     "text": [
      "66\n",
      "3\n",
      "134\n"
     ]
    }
   ],
   "source": [
    "print(max(t))\n",
    "print(min(t))\n",
    "print(sum(t))"
   ]
  },
  {
   "cell_type": "code",
   "execution_count": 5,
   "id": "0611ffa0",
   "metadata": {},
   "outputs": [
    {
     "data": {
      "text/plain": [
       "5"
      ]
     },
     "execution_count": 5,
     "metadata": {},
     "output_type": "execute_result"
    }
   ],
   "source": [
    "len(t)"
   ]
  },
  {
   "cell_type": "code",
   "execution_count": 7,
   "id": "0ffefc6e",
   "metadata": {},
   "outputs": [
    {
     "name": "stdout",
     "output_type": "stream",
     "text": [
      "('apple', 'zebra', 'ball', '1rose', 'food', '2', 'ball')\n"
     ]
    }
   ],
   "source": [
    "a=('apple','zebra','ball','xray','1rose','food','2','ball')\n",
    "b=a[0:3]\n",
    "c=a[4:]\n",
    "d=b+c\n",
    "print(d)"
   ]
  },
  {
   "cell_type": "code",
   "execution_count": 8,
   "id": "07a5aedf",
   "metadata": {},
   "outputs": [
    {
     "name": "stdout",
     "output_type": "stream",
     "text": [
      "('apple', 'zebra', 'ball', 'xray', '1rose', 'food', '2', 'ball')\n"
     ]
    }
   ],
   "source": [
    "a=('apple','zebra','ball','xray','1rose','food','2','ball')\n",
    "b=a[0:3]\n",
    "c=a[4:]\n",
    "f=('xray',)\n",
    "d=b+f+c\n",
    "print(d)"
   ]
  },
  {
   "cell_type": "code",
   "execution_count": 9,
   "id": "ecb446b7",
   "metadata": {},
   "outputs": [
    {
     "data": {
      "text/plain": [
       "['apple', 'zebra', 'ball', 'xray', '1rose', 'food', '2', 'ball']"
      ]
     },
     "execution_count": 9,
     "metadata": {},
     "output_type": "execute_result"
    }
   ],
   "source": [
    "a=('apple','zebra','ball','xray','1rose','food','2','ball')\n",
    "b=list(a)\n",
    "b"
   ]
  },
  {
   "cell_type": "code",
   "execution_count": 10,
   "id": "02fb1c5b",
   "metadata": {},
   "outputs": [
    {
     "name": "stdout",
     "output_type": "stream",
     "text": [
      "('apple', 'zebra', 'ball', '1rose', 'food', '2', 'ball')\n"
     ]
    }
   ],
   "source": [
    "# for operrating on tuple , first change datatype then operated then again change to tuple\n",
    "a=('apple','zebra','ball','xray','1rose','food','2','ball')\n",
    "b=list(a)\n",
    "b.remove('xray')\n",
    "a=tuple(b)\n",
    "print(a)"
   ]
  },
  {
   "cell_type": "code",
   "execution_count": 11,
   "id": "e537f542",
   "metadata": {},
   "outputs": [
    {
     "data": {
      "text/plain": [
       "['a', 'p', 'p', 'l', 'e']"
      ]
     },
     "execution_count": 11,
     "metadata": {},
     "output_type": "execute_result"
    }
   ],
   "source": [
    "a='apple'\n",
    "list(a)"
   ]
  },
  {
   "cell_type": "code",
   "execution_count": 14,
   "id": "f8951c42",
   "metadata": {},
   "outputs": [],
   "source": [
    "b=tuple(a)"
   ]
  },
  {
   "cell_type": "code",
   "execution_count": 15,
   "id": "cb27f938",
   "metadata": {},
   "outputs": [
    {
     "data": {
      "text/plain": [
       "\"('a', 'p', 'p', 'l', 'e')\""
      ]
     },
     "execution_count": 15,
     "metadata": {},
     "output_type": "execute_result"
    }
   ],
   "source": [
    "c=str(b)\n",
    "c"
   ]
  },
  {
   "cell_type": "code",
   "execution_count": 16,
   "id": "a88b9b34",
   "metadata": {},
   "outputs": [
    {
     "name": "stdout",
     "output_type": "stream",
     "text": [
      "3\n"
     ]
    }
   ],
   "source": [
    "# tuple inside tuple\n",
    "# tuple inside list\n",
    "# list inside tuple\n",
    "a=((1,2,3),   # tuple inside tuple\n",
    "  (4,5,6),\n",
    "  (7,8,9))\n",
    "print(len(a))"
   ]
  },
  {
   "cell_type": "code",
   "execution_count": 17,
   "id": "795f9e24",
   "metadata": {},
   "outputs": [
    {
     "name": "stdout",
     "output_type": "stream",
     "text": [
      "enter n=2\n",
      "enter nameram\n",
      "enter age=23\n",
      "enter address=ktm\n",
      "enter nameshyam\n",
      "enter age=25\n",
      "enter address=patan\n",
      "(('ram', 23, 'ktm'), ('shyam', 25, 'patan'))\n"
     ]
    }
   ],
   "source": [
    "info=tuple() # creating tuple inside tuple\n",
    "n=int(input('enter n='))\n",
    "for i in range(n):\n",
    "    name=input('enter name')\n",
    "    age=int(input('enter age='))\n",
    "    add= input('enter address=')\n",
    "    data=((name,age,add),)\n",
    "    info=info+data\n",
    "    \n",
    "print(info)"
   ]
  },
  {
   "cell_type": "code",
   "execution_count": 18,
   "id": "40f67aa9",
   "metadata": {},
   "outputs": [
    {
     "data": {
      "text/plain": [
       "[('ram', 23, 'ktm'), ('shyam', 25, 'patan')]"
      ]
     },
     "execution_count": 18,
     "metadata": {},
     "output_type": "execute_result"
    }
   ],
   "source": [
    "# tuple inside list\n",
    "a=(('ram', 23, 'ktm'), ('shyam', 25, 'patan'))\n",
    "b=list(a)\n",
    "b"
   ]
  },
  {
   "cell_type": "code",
   "execution_count": 20,
   "id": "c88104cf",
   "metadata": {},
   "outputs": [
    {
     "name": "stdout",
     "output_type": "stream",
     "text": [
      "enter n=2\n",
      "enter nameram\n",
      "enter age=23\n",
      "enter address=ktm\n",
      "enter namehari\n",
      "enter age=34\n",
      "enter address=patan\n",
      "[('ram', 23, 'ktm'), ('hari', 34, 'patan')]\n"
     ]
    }
   ],
   "source": [
    "info=[] # creating tuple inside list\n",
    "n=int(input('enter n='))\n",
    "for i in range(n):\n",
    "    name=input('enter name')\n",
    "    age=int(input('enter age='))\n",
    "    add= input('enter address=')\n",
    "    data=(name,age,add)\n",
    "    info.append(data)\n",
    "    \n",
    "print(info)"
   ]
  },
  {
   "cell_type": "code",
   "execution_count": 21,
   "id": "164e24b0",
   "metadata": {},
   "outputs": [
    {
     "data": {
      "text/plain": [
       "[('hari', 34, 'patan')]"
      ]
     },
     "execution_count": 21,
     "metadata": {},
     "output_type": "execute_result"
    }
   ],
   "source": [
    "a=[('ram', 23, 'ktm'), ('hari', 34, 'patan')]\n",
    "del a[0]\n",
    "a\n"
   ]
  },
  {
   "cell_type": "code",
   "execution_count": 22,
   "id": "a6172dce",
   "metadata": {},
   "outputs": [
    {
     "ename": "TypeError",
     "evalue": "'tuple' object doesn't support item deletion",
     "output_type": "error",
     "traceback": [
      "\u001b[1;31m---------------------------------------------------------------------------\u001b[0m",
      "\u001b[1;31mTypeError\u001b[0m                                 Traceback (most recent call last)",
      "\u001b[1;32m<ipython-input-22-27e032b6d5f0>\u001b[0m in \u001b[0;36m<module>\u001b[1;34m\u001b[0m\n\u001b[0;32m      1\u001b[0m \u001b[0ma\u001b[0m\u001b[1;33m=\u001b[0m\u001b[1;33m[\u001b[0m\u001b[1;33m(\u001b[0m\u001b[1;34m'ram'\u001b[0m\u001b[1;33m,\u001b[0m \u001b[1;36m23\u001b[0m\u001b[1;33m,\u001b[0m \u001b[1;34m'ktm'\u001b[0m\u001b[1;33m)\u001b[0m\u001b[1;33m,\u001b[0m \u001b[1;33m(\u001b[0m\u001b[1;34m'hari'\u001b[0m\u001b[1;33m,\u001b[0m \u001b[1;36m34\u001b[0m\u001b[1;33m,\u001b[0m \u001b[1;34m'patan'\u001b[0m\u001b[1;33m)\u001b[0m\u001b[1;33m]\u001b[0m\u001b[1;33m\u001b[0m\u001b[1;33m\u001b[0m\u001b[0m\n\u001b[1;32m----> 2\u001b[1;33m \u001b[1;32mdel\u001b[0m \u001b[0ma\u001b[0m\u001b[1;33m[\u001b[0m\u001b[1;36m0\u001b[0m\u001b[1;33m]\u001b[0m\u001b[1;33m[\u001b[0m\u001b[1;36m0\u001b[0m\u001b[1;33m]\u001b[0m \u001b[1;31m# not possible to delete elements like a[0][0]\u001b[0m\u001b[1;33m\u001b[0m\u001b[1;33m\u001b[0m\u001b[0m\n\u001b[0m\u001b[0;32m      3\u001b[0m \u001b[0ma\u001b[0m\u001b[1;33m\u001b[0m\u001b[1;33m\u001b[0m\u001b[0m\n",
      "\u001b[1;31mTypeError\u001b[0m: 'tuple' object doesn't support item deletion"
     ]
    }
   ],
   "source": [
    "a=[('ram', 23, 'ktm'), ('hari', 34, 'patan')]\n",
    "del a[0][0] # not possible to delete elements like a[0][0]\n",
    "a"
   ]
  },
  {
   "cell_type": "code",
   "execution_count": 23,
   "id": "aa26d938",
   "metadata": {},
   "outputs": [
    {
     "data": {
      "text/plain": [
       "(['ram', 23, 'ktm'], ['hari', 34, 'patan'])"
      ]
     },
     "execution_count": 23,
     "metadata": {},
     "output_type": "execute_result"
    }
   ],
   "source": [
    "# list inside tuple\n",
    "a=(['ram', 23, 'ktm'], ['hari', 34, 'patan'])\n",
    "a"
   ]
  },
  {
   "cell_type": "code",
   "execution_count": 24,
   "id": "656d3232",
   "metadata": {},
   "outputs": [
    {
     "name": "stdout",
     "output_type": "stream",
     "text": [
      "enter n=2\n",
      "enter nameram\n",
      "enter age=32\n",
      "enter address=ktm\n",
      "enter namehari\n",
      "enter age=45\n",
      "enter address=patan\n",
      "(['ram', 32, 'ktm'], ['hari', 45, 'patan'])\n"
     ]
    }
   ],
   "source": [
    "#a[0] elemnets cant change but a[0][0]can be chang\n",
    "# creating list inside tuple\n",
    "\n",
    "info=()\n",
    "n=int(input('enter n='))\n",
    "for i in range(n):\n",
    "    name=input('enter name')\n",
    "    age=int(input('enter age='))\n",
    "    add= input('enter address=')\n",
    "    data=[name,age,add]\n",
    "    info=info+(data,)\n",
    "    \n",
    "print(info)"
   ]
  },
  {
   "cell_type": "code",
   "execution_count": 25,
   "id": "32731373",
   "metadata": {},
   "outputs": [
    {
     "ename": "TypeError",
     "evalue": "'tuple' object doesn't support item deletion",
     "output_type": "error",
     "traceback": [
      "\u001b[1;31m---------------------------------------------------------------------------\u001b[0m",
      "\u001b[1;31mTypeError\u001b[0m                                 Traceback (most recent call last)",
      "\u001b[1;32m<ipython-input-25-675ceef8c012>\u001b[0m in \u001b[0;36m<module>\u001b[1;34m\u001b[0m\n\u001b[0;32m      1\u001b[0m \u001b[1;33m(\u001b[0m\u001b[1;33m[\u001b[0m\u001b[1;34m'ram'\u001b[0m\u001b[1;33m,\u001b[0m \u001b[1;36m32\u001b[0m\u001b[1;33m,\u001b[0m \u001b[1;34m'ktm'\u001b[0m\u001b[1;33m]\u001b[0m\u001b[1;33m,\u001b[0m \u001b[1;33m[\u001b[0m\u001b[1;34m'hari'\u001b[0m\u001b[1;33m,\u001b[0m \u001b[1;36m45\u001b[0m\u001b[1;33m,\u001b[0m \u001b[1;34m'patan'\u001b[0m\u001b[1;33m]\u001b[0m\u001b[1;33m)\u001b[0m\u001b[1;33m\u001b[0m\u001b[1;33m\u001b[0m\u001b[0m\n\u001b[1;32m----> 2\u001b[1;33m \u001b[1;32mdel\u001b[0m \u001b[0ma\u001b[0m\u001b[1;33m[\u001b[0m\u001b[1;36m0\u001b[0m\u001b[1;33m]\u001b[0m\u001b[1;33m\u001b[0m\u001b[1;33m\u001b[0m\u001b[0m\n\u001b[0m",
      "\u001b[1;31mTypeError\u001b[0m: 'tuple' object doesn't support item deletion"
     ]
    }
   ],
   "source": [
    "(['ram', 32, 'ktm'], ['hari', 45, 'patan'])\n",
    "del a[0]"
   ]
  },
  {
   "cell_type": "code",
   "execution_count": 26,
   "id": "089bee5e",
   "metadata": {},
   "outputs": [],
   "source": [
    "del a[0][0]"
   ]
  },
  {
   "cell_type": "code",
   "execution_count": 27,
   "id": "c582c72b",
   "metadata": {},
   "outputs": [
    {
     "data": {
      "text/plain": [
       "([23, 'ktm'], ['hari', 34, 'patan'])"
      ]
     },
     "execution_count": 27,
     "metadata": {},
     "output_type": "execute_result"
    }
   ],
   "source": [
    "a\n",
    "\n"
   ]
  },
  {
   "cell_type": "code",
   "execution_count": 28,
   "id": "c5544b53",
   "metadata": {},
   "outputs": [
    {
     "data": {
      "text/plain": [
       "(['ram', 'ktm'], ['hari', 34, 'patan'])"
      ]
     },
     "execution_count": 28,
     "metadata": {},
     "output_type": "execute_result"
    }
   ],
   "source": [
    "a[0][0]='ram'\n",
    "a"
   ]
  },
  {
   "cell_type": "code",
   "execution_count": null,
   "id": "b29f6259",
   "metadata": {},
   "outputs": [],
   "source": []
  }
 ],
 "metadata": {
  "kernelspec": {
   "display_name": "Python 3",
   "language": "python",
   "name": "python3"
  },
  "language_info": {
   "codemirror_mode": {
    "name": "ipython",
    "version": 3
   },
   "file_extension": ".py",
   "mimetype": "text/x-python",
   "name": "python",
   "nbconvert_exporter": "python",
   "pygments_lexer": "ipython3",
   "version": "3.8.8"
  }
 },
 "nbformat": 4,
 "nbformat_minor": 5
}
