{
 "cells": [
  {
   "cell_type": "code",
   "execution_count": 1,
   "id": "811ec358",
   "metadata": {},
   "outputs": [],
   "source": [
    "#1.Change tuple inside tuple to list inside list  "
   ]
  },
  {
   "cell_type": "code",
   "execution_count": 1,
   "id": "7611f1b8",
   "metadata": {},
   "outputs": [
    {
     "name": "stdout",
     "output_type": "stream",
     "text": [
      "[[1, 2, 3], [4, 5, 6], [7, 8, 9], [10, 11, 12]]\n"
     ]
    }
   ],
   "source": [
    "a=((1,2,3),(4,5,6),(7,8,9),(10,11,12))\n",
    "b=list(a)\n",
    "d=[]\n",
    "l=len(a)\n",
    "for i in range(l):\n",
    "    c=list(a[i])\n",
    "    d.append(c)\n",
    "print(d)\n",
    "   \n",
    "\n",
    "\n",
    "    \n",
    "    \n",
    "\n"
   ]
  },
  {
   "cell_type": "code",
   "execution_count": null,
   "id": "94a2d21f",
   "metadata": {},
   "outputs": [],
   "source": [
    " 2. Create a i*j matrix takeing value by user"
   ]
  },
  {
   "cell_type": "code",
   "execution_count": 6,
   "id": "a9517e96",
   "metadata": {},
   "outputs": [
    {
     "name": "stdout",
     "output_type": "stream",
     "text": [
      "enter row of matrix=2\n",
      "enter colomn of matrix=2\n",
      "enter the element of matrix=5\n",
      "enter the element of matrix=6\n",
      "enter the element of matrix=8\n",
      "enter the element of matrix=9\n",
      "[[5, 6], [5, 6], [8, 9], [8, 9]]\n",
      "5 6 \n",
      "5 6 \n"
     ]
    }
   ],
   "source": [
    "r=int(input('enter row of matrix='))\n",
    "c=int(input('enter colomn of matrix='))\n",
    "\n",
    "matrix=[]\n",
    "for i in range(r):\n",
    "    a=[]\n",
    "    for j in range(c):\n",
    "        a.append(int(input('enter the element of matrix=')))\n",
    "        matrix.append(a)\n",
    "# for print matrix\n",
    "for i in range(r):\n",
    "    for j in range(c):\n",
    "        print(matrix[i][j], end=' ')\n",
    "    print(sep='\\n')\n",
    "    \n",
    "  \n",
    "\n",
    "\n",
    "\n",
    "    "
   ]
  },
  {
   "cell_type": "code",
   "execution_count": null,
   "id": "89fd036c",
   "metadata": {},
   "outputs": [
    {
     "name": "stdout",
     "output_type": "stream",
     "text": [
      "Enter the number of rows:2\n",
      "Enter the number of columns:2\n",
      "Enter the entries rowwise:\n",
      "2\n",
      "[2]\n",
      "5\n",
      "[2, 5]\n"
     ]
    }
   ],
   "source": [
    "\n",
    "  \n",
    "\n"
   ]
  },
  {
   "cell_type": "code",
   "execution_count": null,
   "id": "cf2752ea",
   "metadata": {},
   "outputs": [],
   "source": []
  }
 ],
 "metadata": {
  "kernelspec": {
   "display_name": "Python 3",
   "language": "python",
   "name": "python3"
  },
  "language_info": {
   "codemirror_mode": {
    "name": "ipython",
    "version": 3
   },
   "file_extension": ".py",
   "mimetype": "text/x-python",
   "name": "python",
   "nbconvert_exporter": "python",
   "pygments_lexer": "ipython3",
   "version": "3.8.8"
  }
 },
 "nbformat": 4,
 "nbformat_minor": 5
}
