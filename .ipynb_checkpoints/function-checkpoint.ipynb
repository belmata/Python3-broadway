{
 "cells": [
  {
   "cell_type": "code",
   "execution_count": 1,
   "id": "a29bb313",
   "metadata": {},
   "outputs": [],
   "source": [
    "#fuction\n",
    "#pre defined fucntion/ builtin fucntion\n",
    "# print()\n",
    "# type()\n",
    "# int()\n",
    "# str()\n",
    "# float()\n",
    "# list()\n",
    "# set()\n",
    "# dict()"
   ]
  },
  {
   "cell_type": "code",
   "execution_count": 2,
   "id": "724caaa4",
   "metadata": {},
   "outputs": [],
   "source": [
    "#def keyword \n",
    "#if certain code is needed in repetition time then fucntion is use and when u needed u cna call that fucntion"
   ]
  },
  {
   "cell_type": "code",
   "execution_count": 3,
   "id": "85f2a601",
   "metadata": {},
   "outputs": [],
   "source": [
    "#def(keyword)\n",
    "\n"
   ]
  },
  {
   "cell_type": "code",
   "execution_count": 4,
   "id": "9d1f77a1",
   "metadata": {},
   "outputs": [],
   "source": [
    "# def <fucntion name>(): # define\n",
    "#     <operation>\n",
    "# <fucntion name>() # call    "
   ]
  },
  {
   "cell_type": "code",
   "execution_count": 5,
   "id": "d6dd2550",
   "metadata": {},
   "outputs": [
    {
     "name": "stdout",
     "output_type": "stream",
     "text": [
      "hello world\n"
     ]
    }
   ],
   "source": [
    "def hello():\n",
    "    print('hello world')\n",
    "hello()"
   ]
  },
  {
   "cell_type": "code",
   "execution_count": 7,
   "id": "977af5ba",
   "metadata": {},
   "outputs": [
    {
     "name": "stdout",
     "output_type": "stream",
     "text": [
      "250\n",
      "250\n",
      "250\n"
     ]
    }
   ],
   "source": [
    "def cal():\n",
    "    l=10\n",
    "    b=5\n",
    "    h=5\n",
    "    v=l*b*h\n",
    "    print(v)\n",
    "   \n",
    "cal()\n",
    "cal()\n",
    "cal()"
   ]
  },
  {
   "cell_type": "code",
   "execution_count": 8,
   "id": "ad30e9a4",
   "metadata": {},
   "outputs": [
    {
     "name": "stdout",
     "output_type": "stream",
     "text": [
      "enter p= 1000\n",
      "enter t= 3\n",
      "enter r= 4\n",
      "120.0\n"
     ]
    }
   ],
   "source": [
    "def cal():\n",
    "    p=int(input('enter p= '))\n",
    "    t=float(input('enter t= '))\n",
    "    r=float(input('enter r= '))\n",
    "    i=p*r*t/100\n",
    "    print(i)\n",
    "cal()"
   ]
  },
  {
   "cell_type": "code",
   "execution_count": 9,
   "id": "5739e8c2",
   "metadata": {},
   "outputs": [
    {
     "name": "stdout",
     "output_type": "stream",
     "text": [
      "enter p= 1000\n",
      "enter t= 4\n",
      "enter r= 3\n",
      "120.0\n"
     ]
    }
   ],
   "source": [
    "cal()\n",
    "def cal():\n",
    "    p=int(input('enter p= '))# local variable\n",
    "    t=float(input('enter t= '))\n",
    "    r=float(input('enter r= '))\n",
    "    i=p*r*t/100\n",
    "    print(i)\n"
   ]
  },
  {
   "cell_type": "code",
   "execution_count": 11,
   "id": "6cc703fc",
   "metadata": {},
   "outputs": [
    {
     "name": "stdout",
     "output_type": "stream",
     "text": [
      "enter p= 1000\n",
      "enter t= 3\n",
      "enter r= 4\n",
      "120.0\n"
     ]
    }
   ],
   "source": [
    "\n",
    "def cal():\n",
    "    i=p*r*t/100\n",
    "    print(i)\n",
    "p=int(input('enter p= '))# global variable\n",
    "t=float(input('enter t= '))\n",
    "r=float(input('enter r= '))\n",
    "cal()"
   ]
  },
  {
   "cell_type": "code",
   "execution_count": null,
   "id": "e4391792",
   "metadata": {},
   "outputs": [],
   "source": []
  }
 ],
 "metadata": {
  "kernelspec": {
   "display_name": "Python 3",
   "language": "python",
   "name": "python3"
  },
  "language_info": {
   "codemirror_mode": {
    "name": "ipython",
    "version": 3
   },
   "file_extension": ".py",
   "mimetype": "text/x-python",
   "name": "python",
   "nbconvert_exporter": "python",
   "pygments_lexer": "ipython3",
   "version": "3.8.8"
  }
 },
 "nbformat": 4,
 "nbformat_minor": 5
}
