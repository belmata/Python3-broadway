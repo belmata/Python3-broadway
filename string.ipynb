{
 "cells": [
  {
   "cell_type": "code",
   "execution_count": 1,
   "id": "610886f5",
   "metadata": {},
   "outputs": [
    {
     "name": "stdout",
     "output_type": "stream",
     "text": [
      "10\n"
     ]
    },
    {
     "data": {
      "text/plain": [
       "str"
      ]
     },
     "execution_count": 1,
     "metadata": {},
     "output_type": "execute_result"
    }
   ],
   "source": [
    "a='10'\n",
    "print(a)\n",
    "type(a)"
   ]
  },
  {
   "cell_type": "code",
   "execution_count": 2,
   "id": "b0752509",
   "metadata": {},
   "outputs": [
    {
     "name": "stdout",
     "output_type": "stream",
     "text": [
      "enter a=123456\n",
      "123456\n"
     ]
    }
   ],
   "source": [
    "a=input('enter a=')\n",
    "print(a)\n"
   ]
  },
  {
   "cell_type": "code",
   "execution_count": 3,
   "id": "fbcb4b08",
   "metadata": {},
   "outputs": [
    {
     "name": "stdout",
     "output_type": "stream",
     "text": [
      "hello world i am python\n"
     ]
    }
   ],
   "source": [
    "a='hello world i am python'\n",
    "print(a)"
   ]
  },
  {
   "cell_type": "code",
   "execution_count": 4,
   "id": "5f825da0",
   "metadata": {},
   "outputs": [
    {
     "name": "stdout",
     "output_type": "stream",
     "text": [
      "h\n"
     ]
    }
   ],
   "source": [
    "a='hello world i am python'\n",
    "print(a[0])"
   ]
  },
  {
   "cell_type": "code",
   "execution_count": 5,
   "id": "0ed62df7",
   "metadata": {},
   "outputs": [
    {
     "name": "stdout",
     "output_type": "stream",
     "text": [
      "hello\n"
     ]
    }
   ],
   "source": [
    "a='hello world i am python'\n",
    "print(a[0:5])  #its called slicing and 5 is exluded"
   ]
  },
  {
   "cell_type": "code",
   "execution_count": 7,
   "id": "cfc7b856",
   "metadata": {},
   "outputs": [
    {
     "name": "stdout",
     "output_type": "stream",
     "text": [
      " world\n"
     ]
    }
   ],
   "source": [
    "a='hello world i am python'\n",
    "print(a[5:11])"
   ]
  },
  {
   "cell_type": "code",
   "execution_count": 10,
   "id": "64a1bf5c",
   "metadata": {},
   "outputs": [
    {
     "name": "stdout",
     "output_type": "stream",
     "text": [
      "hlowrdia yhn\n"
     ]
    }
   ],
   "source": [
    "a='hello world i am python'\n",
    "print(a[0:25:2])"
   ]
  },
  {
   "cell_type": "code",
   "execution_count": 15,
   "id": "f2e577ea",
   "metadata": {},
   "outputs": [
    {
     "name": "stdout",
     "output_type": "stream",
     "text": [
      "hellopython\n"
     ]
    }
   ],
   "source": [
    "a='hello world i am python'\n",
    "b=a[0:5]\n",
    "c=a[17:]\n",
    "print(b+c)"
   ]
  },
  {
   "cell_type": "code",
   "execution_count": 17,
   "id": "44ccc0e8",
   "metadata": {},
   "outputs": [
    {
     "name": "stdout",
     "output_type": "stream",
     "text": [
      "23\n"
     ]
    },
    {
     "data": {
      "text/plain": [
       "'n'"
      ]
     },
     "execution_count": 17,
     "metadata": {},
     "output_type": "execute_result"
    }
   ],
   "source": [
    "a='hello world i am python'\n",
    "l=len(a)\n",
    "print(l)\n",
    "a[l]"
   ]
  },
  {
   "cell_type": "code",
   "execution_count": 1,
   "id": "5c4d5d85",
   "metadata": {},
   "outputs": [
    {
     "data": {
      "text/plain": [
       "' shyam hari sita gita '"
      ]
     },
     "execution_count": 1,
     "metadata": {},
     "output_type": "execute_result"
    }
   ],
   "source": [
    "a='ram shyam hari sita gita ram'\n",
    "a.replace('ram','')"
   ]
  },
  {
   "cell_type": "code",
   "execution_count": 2,
   "id": "e109693a",
   "metadata": {},
   "outputs": [
    {
     "name": "stdout",
     "output_type": "stream",
     "text": [
      "ram shyam hari sita gita ram\n"
     ]
    }
   ],
   "source": [
    "print(a)\n",
    "#if the original value is not chnage then its call immutable\n",
    "#if the original value is change the sits called mutable"
   ]
  },
  {
   "cell_type": "code",
   "execution_count": 3,
   "id": "72b057d8",
   "metadata": {},
   "outputs": [
    {
     "name": "stdout",
     "output_type": "stream",
     "text": [
      "enter a n=3\n",
      "enter a name=coke\n",
      "enter a price=160\n",
      "enter the quantity=2\n",
      "enter a name=cake\n",
      "enter a price=45\n",
      "enter the quantity=3\n",
      "enter a name=food\n",
      "enter a price=100\n",
      "enter the quantity=4\n",
      "coke1602320cake453135food1004400\n",
      "855\n"
     ]
    }
   ],
   "source": [
    "n=int(input('enter a n='))\n",
    "data=str()\n",
    "grandtotal=0\n",
    "for i in range(n):\n",
    "    name=input('enter a name=')\n",
    "    price=int(input('enter a price='))\n",
    "    quantity=int(input('enter the quantity='))\n",
    "    total=price*quantity\n",
    "    info=f'{name} {price}  {quantity}{total}'\n",
    "    data=data+info\n",
    "    grandtotal+=total\n",
    "print(data)\n",
    "print(grandtotal)\n",
    "    "
   ]
  },
  {
   "cell_type": "code",
   "execution_count": 6,
   "id": "540f25b2",
   "metadata": {},
   "outputs": [
    {
     "ename": "TypeError",
     "evalue": "'builtin_function_or_method' object is not subscriptable",
     "output_type": "error",
     "traceback": [
      "\u001b[1;31m---------------------------------------------------------------------------\u001b[0m",
      "\u001b[1;31mTypeError\u001b[0m                                 Traceback (most recent call last)",
      "\u001b[1;32m<ipython-input-6-af4328dd60a5>\u001b[0m in \u001b[0;36m<module>\u001b[1;34m\u001b[0m\n\u001b[1;32m----> 1\u001b[1;33m \u001b[0mbills\u001b[0m\u001b[1;33m=\u001b[0m\u001b[0mdata\u001b[0m\u001b[1;33m.\u001b[0m\u001b[0msplit\u001b[0m\u001b[1;33m[\u001b[0m\u001b[1;33m(\u001b[0m\u001b[1;34m'\\n'\u001b[0m\u001b[1;33m)\u001b[0m\u001b[1;33m]\u001b[0m\u001b[1;33m\u001b[0m\u001b[1;33m\u001b[0m\u001b[0m\n\u001b[0m",
      "\u001b[1;31mTypeError\u001b[0m: 'builtin_function_or_method' object is not subscriptable"
     ]
    }
   ],
   "source": [
    "bills=data.split[('\\n')]"
   ]
  },
  {
   "cell_type": "code",
   "execution_count": null,
   "id": "6e2b8c44",
   "metadata": {},
   "outputs": [],
   "source": []
  }
 ],
 "metadata": {
  "kernelspec": {
   "display_name": "Python 3",
   "language": "python",
   "name": "python3"
  },
  "language_info": {
   "codemirror_mode": {
    "name": "ipython",
    "version": 3
   },
   "file_extension": ".py",
   "mimetype": "text/x-python",
   "name": "python",
   "nbconvert_exporter": "python",
   "pygments_lexer": "ipython3",
   "version": "3.8.8"
  }
 },
 "nbformat": 4,
 "nbformat_minor": 5
}
