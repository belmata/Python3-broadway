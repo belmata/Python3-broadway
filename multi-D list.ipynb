{
 "cells": [
  {
   "cell_type": "code",
   "execution_count": 1,
   "id": "b4b76276",
   "metadata": {},
   "outputs": [
    {
     "name": "stdout",
     "output_type": "stream",
     "text": [
      "3\n"
     ]
    }
   ],
   "source": [
    "d=[[1,2,3],[4,5,6],[7,8,9]]\n",
    "print(len(d))"
   ]
  },
  {
   "cell_type": "code",
   "execution_count": 2,
   "id": "1e759c9c",
   "metadata": {},
   "outputs": [
    {
     "data": {
      "text/plain": [
       "1"
      ]
     },
     "execution_count": 2,
     "metadata": {},
     "output_type": "execute_result"
    }
   ],
   "source": [
    "d[0][0]"
   ]
  },
  {
   "cell_type": "code",
   "execution_count": 3,
   "id": "b88de51d",
   "metadata": {},
   "outputs": [
    {
     "data": {
      "text/plain": [
       "[[1, 2, 3], [4, 5, 6]]"
      ]
     },
     "execution_count": 3,
     "metadata": {},
     "output_type": "execute_result"
    }
   ],
   "source": [
    "d[0:2]"
   ]
  },
  {
   "cell_type": "code",
   "execution_count": 5,
   "id": "7ecbf6d1",
   "metadata": {},
   "outputs": [
    {
     "name": "stdout",
     "output_type": "stream",
     "text": [
      "[[1, 2, 3], [4, 5, 6], [7, 8, 9]]\n"
     ]
    }
   ],
   "source": [
    "a=[[1,2,3,],[4,5,6]]\n",
    "b=[[7,8,9]]\n",
    "print(a+b)"
   ]
  },
  {
   "cell_type": "code",
   "execution_count": 6,
   "id": "1688f34f",
   "metadata": {},
   "outputs": [
    {
     "name": "stdout",
     "output_type": "stream",
     "text": [
      "[[1, 2, 3], [4, 5, 6], [1, 2, 3], [4, 5, 6], [1, 2, 3], [4, 5, 6]]\n"
     ]
    }
   ],
   "source": [
    "a=[[1,2,3,],[4,5,6]]\n",
    "print(a*3)"
   ]
  },
  {
   "cell_type": "code",
   "execution_count": 9,
   "id": "c9653bc7",
   "metadata": {},
   "outputs": [
    {
     "name": "stdout",
     "output_type": "stream",
     "text": [
      "enter n= 2\n",
      "enter name= ram\n",
      "ente age= 45\n",
      "enter address= kathmandu\n",
      "enter name= syam\n",
      "ente age= 45\n",
      "enter address= patan\n",
      "[['ram', 45, 'kathmandu'], ['syam', 45, 'patan']]\n"
     ]
    }
   ],
   "source": [
    "info=[]\n",
    "n=int(input('enter n= '))\n",
    "for i in range(n):\n",
    "    name=input('enter name= ')\n",
    "    age= int(input('ente age= '))\n",
    "    addr=input('enter address= ')\n",
    "    data= [name,age,addr]\n",
    "    info.append(data)\n",
    "print(info)"
   ]
  },
  {
   "cell_type": "code",
   "execution_count": 11,
   "id": "6a68ba12",
   "metadata": {},
   "outputs": [
    {
     "name": "stdout",
     "output_type": "stream",
     "text": [
      "enter index= 1\n",
      "['syam', 45, 'patan']\n"
     ]
    }
   ],
   "source": [
    "index=int(input('enter index= '))\n",
    "print(info[index])"
   ]
  },
  {
   "cell_type": "code",
   "execution_count": 14,
   "id": "f87cc04b",
   "metadata": {},
   "outputs": [
    {
     "ename": "TypeError",
     "evalue": "list indices must be integers or slices, not list",
     "output_type": "error",
     "traceback": [
      "\u001b[1;31m---------------------------------------------------------------------------\u001b[0m",
      "\u001b[1;31mTypeError\u001b[0m                                 Traceback (most recent call last)",
      "\u001b[1;32m<ipython-input-14-ac4165227978>\u001b[0m in \u001b[0;36m<module>\u001b[1;34m\u001b[0m\n\u001b[0;32m      3\u001b[0m   ['hari' ,34,'kathmandu']]\n\u001b[0;32m      4\u001b[0m \u001b[1;32mfor\u001b[0m \u001b[0mi\u001b[0m \u001b[1;32min\u001b[0m \u001b[0ma\u001b[0m\u001b[1;33m:\u001b[0m\u001b[1;33m\u001b[0m\u001b[1;33m\u001b[0m\u001b[0m\n\u001b[1;32m----> 5\u001b[1;33m     \u001b[0mprint\u001b[0m\u001b[1;33m(\u001b[0m\u001b[0ma\u001b[0m\u001b[1;33m[\u001b[0m\u001b[0mi\u001b[0m\u001b[1;33m]\u001b[0m\u001b[1;33m)\u001b[0m\u001b[1;33m\u001b[0m\u001b[1;33m\u001b[0m\u001b[0m\n\u001b[0m",
      "\u001b[1;31mTypeError\u001b[0m: list indices must be integers or slices, not list"
     ]
    }
   ],
   "source": [
    "a=[['ram', 45, 'kathmandu'],\n",
    "  ['syam', 45, 'patan'],\n",
    "  ['hari' ,34,'kathmandu']]\n",
    "for i in a:\n",
    "    print(i)"
   ]
  },
  {
   "cell_type": "code",
   "execution_count": 16,
   "id": "4bf431b2",
   "metadata": {},
   "outputs": [
    {
     "name": "stdout",
     "output_type": "stream",
     "text": [
      "['ram', 45, 'kathmandu']\n"
     ]
    }
   ],
   "source": [
    "for i in a:\n",
    "    if 'ram' in i:\n",
    "        print(i)"
   ]
  },
  {
   "cell_type": "code",
   "execution_count": 18,
   "id": "af6da3cc",
   "metadata": {},
   "outputs": [
    {
     "name": "stdout",
     "output_type": "stream",
     "text": [
      "enetr a= 2\n",
      "enter name= apple\n",
      "enetr price= 250\n",
      "enter qty= 2\n",
      "enter name= orange\n",
      "enetr price= 300\n",
      "enter qty= 3\n",
      "[['apple', 250, 2, 500], ['orange', 300, 3, 900]]\n",
      "1400\n"
     ]
    }
   ],
   "source": [
    "bill=[]\n",
    "netprice=0\n",
    "n=int(input('enetr a= '))\n",
    "for i in range(n):\n",
    "    name=input('enter name= ')\n",
    "    price= int(input('enetr price= '))\n",
    "    qty= int(input('enter qty= '))\n",
    "    total=price*qty\n",
    "    data=[name,price,qty,total]\n",
    "    bill.append(data)\n",
    "    netprice=netprice+total\n",
    "print(bill)\n",
    "print(netprice)\n"
   ]
  },
  {
   "cell_type": "code",
   "execution_count": 19,
   "id": "b2461fe9",
   "metadata": {},
   "outputs": [
    {
     "name": "stdout",
     "output_type": "stream",
     "text": [
      "[['nabin', 45, 'kathmandu'], ['syam', 45, 'patan'], ['hari', 34, 'kathmandu']]\n"
     ]
    }
   ],
   "source": [
    "a=[['ram', 45, 'kathmandu'],\n",
    "  ['syam', 45, 'patan'],\n",
    "  ['hari' ,34,'kathmandu']]\n",
    "a[0][0]='nabin'\n",
    "print(a)"
   ]
  },
  {
   "cell_type": "code",
   "execution_count": 20,
   "id": "a9f43d75",
   "metadata": {},
   "outputs": [
    {
     "name": "stdout",
     "output_type": "stream",
     "text": [
      "[['nabin', 32, 'lalitpur'], ['syam', 45, 'patan'], ['hari', 34, 'kathmandu']]\n"
     ]
    }
   ],
   "source": [
    "a=[['ram', 45, 'kathmandu'],\n",
    "  ['syam', 45, 'patan'],\n",
    "  ['hari' ,34,'kathmandu']]\n",
    "a[0]=['nabin',32,'lalitpur']\n",
    "print(a)"
   ]
  },
  {
   "cell_type": "code",
   "execution_count": 22,
   "id": "77510655",
   "metadata": {},
   "outputs": [
    {
     "data": {
      "text/plain": [
       "[['syam', 45, 'patan'], ['hari', 34, 'kathmandu']]"
      ]
     },
     "execution_count": 22,
     "metadata": {},
     "output_type": "execute_result"
    }
   ],
   "source": [
    "a=[['ram', 45, 'kathmandu'],\n",
    "  ['syam', 45, 'patan'],\n",
    "  ['hari' ,34,'kathmandu']]\n",
    "del a[0]\n",
    "a\n"
   ]
  },
  {
   "cell_type": "code",
   "execution_count": 28,
   "id": "2c71ef28",
   "metadata": {},
   "outputs": [
    {
     "data": {
      "text/plain": [
       "[[45, 'kathmandu'], ['syam', 45, 'patan'], ['hari', 34, 'kathmandu']]"
      ]
     },
     "execution_count": 28,
     "metadata": {},
     "output_type": "execute_result"
    }
   ],
   "source": [
    "a=[['ram', 45, 'kathmandu'],\n",
    "  ['syam', 45, 'patan'],\n",
    "  ['hari' ,34,'kathmandu']]\n",
    "del a[0][0]\n",
    "a"
   ]
  },
  {
   "cell_type": "code",
   "execution_count": 29,
   "id": "cdcadfa3",
   "metadata": {},
   "outputs": [
    {
     "data": {
      "text/plain": [
       "[['ram', 45, 'kathmandu'], ['syam', 45, 'patan'], ['hari', 34, 'kathmandu']]"
      ]
     },
     "execution_count": 29,
     "metadata": {},
     "output_type": "execute_result"
    }
   ],
   "source": [
    "a[0].insert(0,'ram')\n",
    "a"
   ]
  },
  {
   "cell_type": "code",
   "execution_count": 30,
   "id": "7346f775",
   "metadata": {},
   "outputs": [],
   "source": [
    "a[0].append('ram')"
   ]
  },
  {
   "cell_type": "code",
   "execution_count": 31,
   "id": "0610236d",
   "metadata": {},
   "outputs": [
    {
     "data": {
      "text/plain": [
       "[['ram', 45, 'kathmandu', 'ram'],\n",
       " ['syam', 45, 'patan'],\n",
       " ['hari', 34, 'kathmandu']]"
      ]
     },
     "execution_count": 31,
     "metadata": {},
     "output_type": "execute_result"
    }
   ],
   "source": [
    "a"
   ]
  },
  {
   "cell_type": "code",
   "execution_count": 32,
   "id": "06223d86",
   "metadata": {},
   "outputs": [
    {
     "data": {
      "text/plain": [
       "[['ram', 45, 'kathmandu', 'ram'],\n",
       " ['syam', 45, 'patan', 'harii'],\n",
       " ['hari', 34, 'kathmandu']]"
      ]
     },
     "execution_count": 32,
     "metadata": {},
     "output_type": "execute_result"
    }
   ],
   "source": [
    "a[1].append('harii')\n",
    "a"
   ]
  },
  {
   "cell_type": "code",
   "execution_count": 33,
   "id": "981a0c78",
   "metadata": {},
   "outputs": [
    {
     "data": {
      "text/plain": [
       "[['', 45, 'kathmandu'], ['syam', 45, 'patan'], ['hari', 34, 'kathmandu']]"
      ]
     },
     "execution_count": 33,
     "metadata": {},
     "output_type": "execute_result"
    }
   ],
   "source": [
    "a=[['ram', 45, 'kathmandu'],\n",
    "  ['syam', 45, 'patan'],\n",
    "  ['hari' ,34,'kathmandu']]\n",
    "a[0][0]='' # to maintain symmetric form\n",
    "a"
   ]
  },
  {
   "cell_type": "code",
   "execution_count": 38,
   "id": "4329854a",
   "metadata": {},
   "outputs": [
    {
     "name": "stdout",
     "output_type": "stream",
     "text": [
      "enter a n=2\n",
      "enter a name=apple\n",
      "enter a price=200\n",
      "enter the quantity=2\n",
      "enter a name=coke\n",
      "enter a price=80\n",
      "enter the quantity=3\n",
      "apple 200  2400\n",
      "coke 80  3240\n",
      "\n"
     ]
    }
   ],
   "source": [
    "n=int(input('enter a n='))\n",
    "data=str()\n",
    "grandtotal=0\n",
    "for i in range(n):\n",
    "    name=input('enter a name=')\n",
    "    price=int(input('enter a price='))\n",
    "    quantity=int(input('enter the quantity='))\n",
    "    total=price*quantity\n",
    "    info=f'{name} {price}  {quantity}{total}\\n'\n",
    "    data=data+info\n",
    "    grandtotal+=total\n",
    "print(data)\n",
    "#print(grandtotal)"
   ]
  },
  {
   "cell_type": "code",
   "execution_count": 41,
   "id": "f37518e7",
   "metadata": {},
   "outputs": [],
   "source": [
    "l=data.split('\\n')"
   ]
  },
  {
   "cell_type": "code",
   "execution_count": 42,
   "id": "960d8fdd",
   "metadata": {},
   "outputs": [
    {
     "data": {
      "text/plain": [
       "['apple 200  2400', 'coke 80  3240', '']"
      ]
     },
     "execution_count": 42,
     "metadata": {},
     "output_type": "execute_result"
    }
   ],
   "source": [
    "l\n"
   ]
  },
  {
   "cell_type": "code",
   "execution_count": 45,
   "id": "b9ce24eb",
   "metadata": {},
   "outputs": [
    {
     "name": "stdout",
     "output_type": "stream",
     "text": [
      "[['apple', '200', '2400'], ['coke', '80', '3240']]\n"
     ]
    }
   ],
   "source": [
    "output=[]\n",
    "l=data.split('\\n')[0:-1]\n",
    "for i in l:\n",
    "    x=i.split()\n",
    "    output.append(x)\n",
    "print(output)"
   ]
  },
  {
   "cell_type": "code",
   "execution_count": 46,
   "id": "b6d1155e",
   "metadata": {},
   "outputs": [
    {
     "name": "stdout",
     "output_type": "stream",
     "text": [
      "['syam', 45, 'patan']\n",
      "['hari', 34, 'kathmandu']\n"
     ]
    }
   ],
   "source": [
    "a=[['ram', 45, 'kathmandu'],\n",
    "  ['syam', 45, 'patan'],\n",
    "  ['hari' ,34,'kathmandu']]\n",
    "for i in a:\n",
    "    if 'ram'in i: # best to serach in multi-dimension list than compare\n",
    "        continue\n",
    "    print(i)"
   ]
  },
  {
   "cell_type": "code",
   "execution_count": 52,
   "id": "d524ea1e",
   "metadata": {},
   "outputs": [
    {
     "name": "stdout",
     "output_type": "stream",
     "text": [
      "['syam', 45, 'patan']\n",
      "['hari', 34, 'kathmandu']\n"
     ]
    }
   ],
   "source": [
    "a=[['ram', 45, 'kathmandu'],\n",
    "  ['syam', 45, 'patan'],\n",
    "  ['hari' ,34,'kathmandu']]\n",
    "for i in range(len(a)):\n",
    "    if a[i][0]=='ram':\n",
    "        continue\n",
    "    print(a[i])"
   ]
  },
  {
   "cell_type": "code",
   "execution_count": 54,
   "id": "3e7f082d",
   "metadata": {},
   "outputs": [
    {
     "name": "stdout",
     "output_type": "stream",
     "text": [
      "['syam', 45, 'patan']\n",
      "['hari', 34, 'kathmandu']\n"
     ]
    }
   ],
   "source": [
    "a=[['ram', 45, 'kathmandu'],\n",
    "  ['syam', 45, 'patan'],\n",
    "  ['hari' ,34,'kathmandu']]\n",
    "for i in range(len(a)):\n",
    "    if a[i][0]!='ram':\n",
    "            print(a[i])"
   ]
  },
  {
   "cell_type": "code",
   "execution_count": 55,
   "id": "99aa5cf1",
   "metadata": {},
   "outputs": [
    {
     "data": {
      "text/plain": [
       "2"
      ]
     },
     "execution_count": 55,
     "metadata": {},
     "output_type": "execute_result"
    }
   ],
   "source": [
    "a=[['ram', 45, 'kathmandu'],\n",
    "  ['syam', 45, 'patan'],\n",
    "  ['hari' ,34,'kathmandu'],\n",
    "  ['hari' ,34,'kathmandu']]\n",
    "a.count(['hari' ,34,'kathmandu'])"
   ]
  },
  {
   "cell_type": "code",
   "execution_count": 56,
   "id": "841ed4eb",
   "metadata": {},
   "outputs": [],
   "source": [
    "a=[['ram', 45, 'kathmandu'],\n",
    "  ['syam', 45, 'patan'],\n",
    "  ['hari' ,34,'kathmandu'],\n",
    "  ['hari' ,34,'kathmandu']]\n",
    "a.remove(a[-1])"
   ]
  },
  {
   "cell_type": "code",
   "execution_count": 57,
   "id": "140a69a4",
   "metadata": {},
   "outputs": [
    {
     "data": {
      "text/plain": [
       "[['ram', 45, 'kathmandu'], ['syam', 45, 'patan'], ['hari', 34, 'kathmandu']]"
      ]
     },
     "execution_count": 57,
     "metadata": {},
     "output_type": "execute_result"
    }
   ],
   "source": [
    "a"
   ]
  },
  {
   "cell_type": "code",
   "execution_count": 64,
   "id": "d03bfa6b",
   "metadata": {},
   "outputs": [
    {
     "name": "stdout",
     "output_type": "stream",
     "text": [
      "[['ram', 45, 'kathmandu'], ['syam', 45, 'patan']]\n"
     ]
    }
   ],
   "source": [
    "b=[]\n",
    "a=[['ram', 45, 'kathmandu'],\n",
    "  ['syam', 45, 'patan'],\n",
    "  ['hari' ,34,'kathmandu'],\n",
    "  ['hari' ,34,'kathmandu']]\n",
    "x=['hari' ,34,'kathmandu']\n",
    "n=a.count(x)\n",
    "for i in range(n):\n",
    "    if a[i] !=x:\n",
    "        b.append(a[i])\n",
    "print(b)"
   ]
  },
  {
   "cell_type": "code",
   "execution_count": 66,
   "id": "472c94b2",
   "metadata": {},
   "outputs": [
    {
     "name": "stdout",
     "output_type": "stream",
     "text": [
      "[['ram', 45, 'kathmandu'], ['syam', 45, 'patan'], ['belmata', 24, 'dang']]\n"
     ]
    }
   ],
   "source": [
    "b=[]\n",
    "a=[['ram', 45, 'kathmandu'],\n",
    "  ['syam', 45, 'patan'],\n",
    "  ['belmata',24,'dang'],\n",
    "  ['hari' ,34,'kathmandu'],\n",
    "  ['hari' ,34,'kathmandu']]\n",
    "x=['hari' ,34,'kathmandu']\n",
    "n=len(a)\n",
    "for i in range(n):\n",
    "    if a[i] !=x:\n",
    "        b.append(a[i])\n",
    "print(b)"
   ]
  },
  {
   "cell_type": "code",
   "execution_count": null,
   "id": "3f40fca6",
   "metadata": {},
   "outputs": [],
   "source": []
  }
 ],
 "metadata": {
  "kernelspec": {
   "display_name": "Python 3",
   "language": "python",
   "name": "python3"
  },
  "language_info": {
   "codemirror_mode": {
    "name": "ipython",
    "version": 3
   },
   "file_extension": ".py",
   "mimetype": "text/x-python",
   "name": "python",
   "nbconvert_exporter": "python",
   "pygments_lexer": "ipython3",
   "version": "3.8.8"
  }
 },
 "nbformat": 4,
 "nbformat_minor": 5
}
