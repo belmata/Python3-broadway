{
 "cells": [
  {
   "cell_type": "code",
   "execution_count": 1,
   "id": "3f2c5bd7",
   "metadata": {},
   "outputs": [],
   "source": [
    "# class a:\n",
    "#     pass\n",
    "# class b(a):\n",
    "#     pass\n",
    "# obj=b()"
   ]
  },
  {
   "cell_type": "code",
   "execution_count": 2,
   "id": "7a5f51c5",
   "metadata": {},
   "outputs": [
    {
     "name": "stdout",
     "output_type": "stream",
     "text": [
      "hello world A\n",
      "hello world B\n"
     ]
    }
   ],
   "source": [
    "class A:\n",
    "    print('hello world A')\n",
    "class B(A):\n",
    "    print('hello world B')\n",
    "obj=B()"
   ]
  },
  {
   "cell_type": "code",
   "execution_count": 3,
   "id": "d44426b6",
   "metadata": {},
   "outputs": [
    {
     "name": "stdout",
     "output_type": "stream",
     "text": [
      "hello world A\n",
      "hello world B\n"
     ]
    }
   ],
   "source": [
    "class A:\n",
    "    def a(self):\n",
    "        print('hello world A')\n",
    "class B(A):\n",
    "    def b(Self):\n",
    "        print('hello world B')\n",
    "obj=B()\n",
    "obj.a()\n",
    "obj.b()"
   ]
  },
  {
   "cell_type": "code",
   "execution_count": 7,
   "id": "e0d69325",
   "metadata": {},
   "outputs": [
    {
     "ename": "TypeError",
     "evalue": "office() takes no arguments",
     "output_type": "error",
     "traceback": [
      "\u001b[1;31m---------------------------------------------------------------------------\u001b[0m",
      "\u001b[1;31mTypeError\u001b[0m                                 Traceback (most recent call last)",
      "\u001b[1;32m<ipython-input-7-e727d7fbf794>\u001b[0m in \u001b[0;36m<module>\u001b[1;34m\u001b[0m\n\u001b[0;32m      9\u001b[0m         \u001b[0mprint\u001b[0m\u001b[1;33m(\u001b[0m\u001b[1;34mf\"hello wolrd i am {self.name} my salary is {self.sal}\"\u001b[0m\u001b[1;33m)\u001b[0m\u001b[1;33m\u001b[0m\u001b[1;33m\u001b[0m\u001b[0m\n\u001b[0;32m     10\u001b[0m \u001b[1;33m\u001b[0m\u001b[0m\n\u001b[1;32m---> 11\u001b[1;33m \u001b[0mobj\u001b[0m\u001b[1;33m=\u001b[0m\u001b[0moffice\u001b[0m\u001b[1;33m(\u001b[0m\u001b[1;34m'ram'\u001b[0m\u001b[1;33m,\u001b[0m\u001b[1;36m15000\u001b[0m\u001b[1;33m)\u001b[0m\u001b[1;33m\u001b[0m\u001b[1;33m\u001b[0m\u001b[0m\n\u001b[0m\u001b[0;32m     12\u001b[0m \u001b[0mobj\u001b[0m\u001b[1;33m.\u001b[0m\u001b[0moff\u001b[0m\u001b[1;33m(\u001b[0m\u001b[1;33m)\u001b[0m\u001b[1;33m\u001b[0m\u001b[1;33m\u001b[0m\u001b[0m\n",
      "\u001b[1;31mTypeError\u001b[0m: office() takes no arguments"
     ]
    }
   ],
   "source": [
    "class account: #parent class(in which the paramter are assigned)\n",
    "    def _init_(self,name,salary):\n",
    "        self.sal=salary\n",
    "        self.name=name\n",
    "    def acc(self):\n",
    "        print('hello world my salalry is ',self.sal)\n",
    "class office(account): # office inherite account/  child class\n",
    "    def off(self):\n",
    "        print(f\"hello wolrd i am {self.name} my salary is {self.sal}\")\n",
    "    \n",
    "obj=office('ram',15000)    \n",
    "obj.off()"
   ]
  },
  {
   "cell_type": "code",
   "execution_count": 9,
   "id": "acba0bc6",
   "metadata": {},
   "outputs": [
    {
     "ename": "AttributeError",
     "evalue": "'office' object has no attribute 'name'",
     "output_type": "error",
     "traceback": [
      "\u001b[1;31m---------------------------------------------------------------------------\u001b[0m",
      "\u001b[1;31mAttributeError\u001b[0m                            Traceback (most recent call last)",
      "\u001b[1;32m<ipython-input-9-fe6dbad1985c>\u001b[0m in \u001b[0;36m<module>\u001b[1;34m\u001b[0m\n\u001b[0;32m     11\u001b[0m \u001b[0mobj\u001b[0m\u001b[1;33m=\u001b[0m\u001b[0moffice\u001b[0m\u001b[1;33m(\u001b[0m\u001b[1;33m)\u001b[0m\u001b[1;33m\u001b[0m\u001b[1;33m\u001b[0m\u001b[0m\n\u001b[0;32m     12\u001b[0m \u001b[0mobj1\u001b[0m\u001b[1;33m=\u001b[0m\u001b[0maccount\u001b[0m\u001b[1;33m(\u001b[0m\u001b[1;33m)\u001b[0m\u001b[1;33m\u001b[0m\u001b[1;33m\u001b[0m\u001b[0m\n\u001b[1;32m---> 13\u001b[1;33m \u001b[0mobj\u001b[0m\u001b[1;33m.\u001b[0m\u001b[0moff\u001b[0m\u001b[1;33m(\u001b[0m\u001b[1;33m)\u001b[0m\u001b[1;33m\u001b[0m\u001b[1;33m\u001b[0m\u001b[0m\n\u001b[0m",
      "\u001b[1;32m<ipython-input-9-fe6dbad1985c>\u001b[0m in \u001b[0;36moff\u001b[1;34m(self)\u001b[0m\n\u001b[0;32m      7\u001b[0m \u001b[1;32mclass\u001b[0m \u001b[0moffice\u001b[0m\u001b[1;33m(\u001b[0m\u001b[0maccount\u001b[0m\u001b[1;33m)\u001b[0m\u001b[1;33m:\u001b[0m \u001b[1;31m# office inherite account/  child class\u001b[0m\u001b[1;33m\u001b[0m\u001b[1;33m\u001b[0m\u001b[0m\n\u001b[0;32m      8\u001b[0m     \u001b[1;32mdef\u001b[0m \u001b[0moff\u001b[0m\u001b[1;33m(\u001b[0m\u001b[0mself\u001b[0m\u001b[1;33m)\u001b[0m\u001b[1;33m:\u001b[0m\u001b[1;33m\u001b[0m\u001b[1;33m\u001b[0m\u001b[0m\n\u001b[1;32m----> 9\u001b[1;33m         \u001b[0mprint\u001b[0m\u001b[1;33m(\u001b[0m\u001b[1;34mf\"hello wolrd i am {self.name} my salary is {self.sal}\"\u001b[0m\u001b[1;33m)\u001b[0m\u001b[1;33m\u001b[0m\u001b[1;33m\u001b[0m\u001b[0m\n\u001b[0m\u001b[0;32m     10\u001b[0m \u001b[1;33m\u001b[0m\u001b[0m\n\u001b[0;32m     11\u001b[0m \u001b[0mobj\u001b[0m\u001b[1;33m=\u001b[0m\u001b[0moffice\u001b[0m\u001b[1;33m(\u001b[0m\u001b[1;33m)\u001b[0m\u001b[1;33m\u001b[0m\u001b[1;33m\u001b[0m\u001b[0m\n",
      "\u001b[1;31mAttributeError\u001b[0m: 'office' object has no attribute 'name'"
     ]
    }
   ],
   "source": [
    "class account: #parent class(in which the paramter are assigned)\n",
    "    def _init_(self):\n",
    "        self.sal=int(input('enter salary= '))\n",
    "        self.name=input('enter name= ')\n",
    "    def acc(self):\n",
    "        print('hello world my salalry is ',self.sal)\n",
    "class office(account): # office inherite account/  child class\n",
    "    def off(self):\n",
    "        print(f\"hello wolrd i am {self.name} my salary is {self.sal}\")\n",
    "    \n",
    "obj=office()\n",
    "obj1=account()\n",
    "obj.off()"
   ]
  },
  {
   "cell_type": "code",
   "execution_count": 12,
   "id": "63e46485",
   "metadata": {},
   "outputs": [
    {
     "ename": "AttributeError",
     "evalue": "'office' object has no attribute 'name'",
     "output_type": "error",
     "traceback": [
      "\u001b[1;31m---------------------------------------------------------------------------\u001b[0m",
      "\u001b[1;31mAttributeError\u001b[0m                            Traceback (most recent call last)",
      "\u001b[1;32m<ipython-input-12-629d01a5cde8>\u001b[0m in \u001b[0;36m<module>\u001b[1;34m\u001b[0m\n\u001b[0;32m     17\u001b[0m \u001b[0mobj\u001b[0m\u001b[1;33m=\u001b[0m\u001b[0moffice\u001b[0m\u001b[1;33m(\u001b[0m\u001b[1;33m)\u001b[0m\u001b[1;33m\u001b[0m\u001b[1;33m\u001b[0m\u001b[0m\n\u001b[0;32m     18\u001b[0m \u001b[1;31m#obj1=account()\u001b[0m\u001b[1;33m\u001b[0m\u001b[1;33m\u001b[0m\u001b[1;33m\u001b[0m\u001b[0m\n\u001b[1;32m---> 19\u001b[1;33m \u001b[0mobj\u001b[0m\u001b[1;33m.\u001b[0m\u001b[0moff\u001b[0m\u001b[1;33m(\u001b[0m\u001b[1;33m)\u001b[0m\u001b[1;33m\u001b[0m\u001b[1;33m\u001b[0m\u001b[0m\n\u001b[0m\u001b[0;32m     20\u001b[0m \u001b[0mobj\u001b[0m\u001b[1;33m.\u001b[0m\u001b[0macc\u001b[0m\u001b[1;33m(\u001b[0m\u001b[1;33m)\u001b[0m\u001b[1;33m\u001b[0m\u001b[1;33m\u001b[0m\u001b[0m\n",
      "\u001b[1;32m<ipython-input-12-629d01a5cde8>\u001b[0m in \u001b[0;36moff\u001b[1;34m(self)\u001b[0m\n\u001b[0;32m     13\u001b[0m \u001b[1;33m\u001b[0m\u001b[0m\n\u001b[0;32m     14\u001b[0m     \u001b[1;32mdef\u001b[0m \u001b[0moff\u001b[0m\u001b[1;33m(\u001b[0m\u001b[0mself\u001b[0m\u001b[1;33m)\u001b[0m\u001b[1;33m:\u001b[0m\u001b[1;33m\u001b[0m\u001b[1;33m\u001b[0m\u001b[0m\n\u001b[1;32m---> 15\u001b[1;33m         \u001b[0mprint\u001b[0m\u001b[1;33m(\u001b[0m\u001b[1;34mf\"hello wolrd i am {self.name} my salary is {self.sal}\"\u001b[0m\u001b[1;33m)\u001b[0m\u001b[1;33m\u001b[0m\u001b[1;33m\u001b[0m\u001b[0m\n\u001b[0m\u001b[0;32m     16\u001b[0m \u001b[1;33m\u001b[0m\u001b[0m\n\u001b[0;32m     17\u001b[0m \u001b[0mobj\u001b[0m\u001b[1;33m=\u001b[0m\u001b[0moffice\u001b[0m\u001b[1;33m(\u001b[0m\u001b[1;33m)\u001b[0m\u001b[1;33m\u001b[0m\u001b[1;33m\u001b[0m\u001b[0m\n",
      "\u001b[1;31mAttributeError\u001b[0m: 'office' object has no attribute 'name'"
     ]
    }
   ],
   "source": [
    "class account: # 2\n",
    "    def _init_(self):\n",
    "        self.sal=int(input('enter salary= '))\n",
    "        self.name=input('enter name= ')\n",
    "        \n",
    "    def acc(self):\n",
    "        print('hello world my salalry is ',self.sal)\n",
    "        \n",
    "class office(account):\n",
    "    def _init_(self): #1 run\n",
    "        self.address=input(\"enter address = \")\n",
    "        account._init_(self)\n",
    "        \n",
    "    def off(self):\n",
    "        print(f\"hello wolrd i am {self.name} my salary is {self.sal}\")\n",
    "    \n",
    "obj=office()\n",
    "#obj1=account()\n",
    "obj.off()\n",
    "obj.acc()"
   ]
  },
  {
   "cell_type": "code",
   "execution_count": 13,
   "id": "beb9df50",
   "metadata": {},
   "outputs": [
    {
     "ename": "TypeError",
     "evalue": "office() takes no arguments",
     "output_type": "error",
     "traceback": [
      "\u001b[1;31m---------------------------------------------------------------------------\u001b[0m",
      "\u001b[1;31mTypeError\u001b[0m                                 Traceback (most recent call last)",
      "\u001b[1;32m<ipython-input-13-14ec0d434288>\u001b[0m in \u001b[0;36m<module>\u001b[1;34m\u001b[0m\n\u001b[0;32m     15\u001b[0m         \u001b[0mprint\u001b[0m\u001b[1;33m(\u001b[0m\u001b[1;34mf\"hello wolrd i am {self.name} my salary is {self.sal}\"\u001b[0m\u001b[1;33m)\u001b[0m\u001b[1;33m\u001b[0m\u001b[1;33m\u001b[0m\u001b[0m\n\u001b[0;32m     16\u001b[0m \u001b[1;33m\u001b[0m\u001b[0m\n\u001b[1;32m---> 17\u001b[1;33m \u001b[0mobj\u001b[0m\u001b[1;33m=\u001b[0m\u001b[0moffice\u001b[0m\u001b[1;33m(\u001b[0m\u001b[1;34m'ram'\u001b[0m\u001b[1;33m,\u001b[0m\u001b[1;36m15000\u001b[0m\u001b[1;33m,\u001b[0m\u001b[1;34m'kathmandu'\u001b[0m\u001b[1;33m)\u001b[0m\u001b[1;33m\u001b[0m\u001b[1;33m\u001b[0m\u001b[0m\n\u001b[0m\u001b[0;32m     18\u001b[0m \u001b[1;31m#obj1=account()\u001b[0m\u001b[1;33m\u001b[0m\u001b[1;33m\u001b[0m\u001b[1;33m\u001b[0m\u001b[0m\n\u001b[0;32m     19\u001b[0m \u001b[0mobj\u001b[0m\u001b[1;33m.\u001b[0m\u001b[0moff\u001b[0m\u001b[1;33m(\u001b[0m\u001b[1;33m)\u001b[0m\u001b[1;33m\u001b[0m\u001b[1;33m\u001b[0m\u001b[0m\n",
      "\u001b[1;31mTypeError\u001b[0m: office() takes no arguments"
     ]
    }
   ],
   "source": [
    "class account: # 2\n",
    "    def _init_(self,sal,addr):\n",
    "        self.sal=sal\n",
    "        self.address=addr\n",
    "        \n",
    "    def acc(self):\n",
    "        print('hello world my salalry is ',self.sal)\n",
    "        \n",
    "class office(account):\n",
    "    def _init_(self,name,sal,addr): #1 run\n",
    "        self.name=name\n",
    "        account._init_(self,sal,addr)\n",
    "        \n",
    "    def off(self):\n",
    "        print(f\"hello wolrd i am {self.name} my salary is {self.sal}\")\n",
    "    \n",
    "obj=office('ram',15000,'kathmandu')\n",
    "#obj1=account()\n",
    "obj.off()\n",
    "obj.acc()"
   ]
  },
  {
   "cell_type": "code",
   "execution_count": 15,
   "id": "ba2e54de",
   "metadata": {},
   "outputs": [
    {
     "ename": "TypeError",
     "evalue": "office() takes no arguments",
     "output_type": "error",
     "traceback": [
      "\u001b[1;31m---------------------------------------------------------------------------\u001b[0m",
      "\u001b[1;31mTypeError\u001b[0m                                 Traceback (most recent call last)",
      "\u001b[1;32m<ipython-input-15-44e0384150da>\u001b[0m in \u001b[0;36m<module>\u001b[1;34m\u001b[0m\n\u001b[0;32m     24\u001b[0m         \u001b[0mprint\u001b[0m\u001b[1;33m(\u001b[0m\u001b[1;34mf\"hello wolrd i am {self.name} my salary is {self.sal}\"\u001b[0m\u001b[1;33m)\u001b[0m\u001b[1;33m\u001b[0m\u001b[1;33m\u001b[0m\u001b[0m\n\u001b[0;32m     25\u001b[0m \u001b[1;33m\u001b[0m\u001b[0m\n\u001b[1;32m---> 26\u001b[1;33m \u001b[0mobj\u001b[0m\u001b[1;33m=\u001b[0m\u001b[0moffice\u001b[0m\u001b[1;33m(\u001b[0m\u001b[1;34m'ram'\u001b[0m\u001b[1;33m,\u001b[0m\u001b[1;36m15000\u001b[0m\u001b[1;33m,\u001b[0m\u001b[1;34m'kathmandu'\u001b[0m\u001b[1;33m)\u001b[0m\u001b[1;33m\u001b[0m\u001b[1;33m\u001b[0m\u001b[0m\n\u001b[0m\u001b[0;32m     27\u001b[0m \u001b[0mobj\u001b[0m\u001b[1;33m.\u001b[0m\u001b[0moff\u001b[0m\u001b[1;33m(\u001b[0m\u001b[1;33m)\u001b[0m\u001b[1;33m\u001b[0m\u001b[1;33m\u001b[0m\u001b[0m\n\u001b[0;32m     28\u001b[0m \u001b[0mobj\u001b[0m\u001b[1;33m.\u001b[0m\u001b[0macc\u001b[0m\u001b[1;33m(\u001b[0m\u001b[1;33m)\u001b[0m\u001b[1;33m\u001b[0m\u001b[1;33m\u001b[0m\u001b[0m\n",
      "\u001b[1;31mTypeError\u001b[0m: office() takes no arguments"
     ]
    }
   ],
   "source": [
    "class account: \n",
    "    def _init_(self,sal):\n",
    "        self.sal=sal\n",
    "       \n",
    "        \n",
    "    def acc(self):\n",
    "        print('hello world my salary is ',self.sal)\n",
    "        \n",
    "class info(account): \n",
    "    def _init_(self,addr):\n",
    "        self.addr=addr\n",
    "       \n",
    "        \n",
    "    def acc(self):\n",
    "        print('hello world i am from  ',self.sal)\n",
    "        \n",
    "class office(info):\n",
    "    def _init_(self,name,sal,addr):\n",
    "        self.name=name\n",
    "        account._init_(self,sal)\n",
    "        info._init_(self,addr)\n",
    "        \n",
    "    def off(self):\n",
    "        print(f\"hello wolrd i am {self.name} my salary is {self.sal}\")\n",
    "    \n",
    "obj=office('ram',15000,'kathmandu')\n",
    "obj.off()\n",
    "obj.acc()"
   ]
  },
  {
   "cell_type": "code",
   "execution_count": 16,
   "id": "65aee3c6",
   "metadata": {},
   "outputs": [
    {
     "ename": "TypeError",
     "evalue": "office() takes no arguments",
     "output_type": "error",
     "traceback": [
      "\u001b[1;31m---------------------------------------------------------------------------\u001b[0m",
      "\u001b[1;31mTypeError\u001b[0m                                 Traceback (most recent call last)",
      "\u001b[1;32m<ipython-input-16-197b744f37f4>\u001b[0m in \u001b[0;36m<module>\u001b[1;34m\u001b[0m\n\u001b[0;32m     24\u001b[0m         \u001b[0mprint\u001b[0m\u001b[1;33m(\u001b[0m\u001b[1;34mf\"hello wolrd i am {self.name} my salary is {self.sal}\"\u001b[0m\u001b[1;33m)\u001b[0m\u001b[1;33m\u001b[0m\u001b[1;33m\u001b[0m\u001b[0m\n\u001b[0;32m     25\u001b[0m \u001b[1;33m\u001b[0m\u001b[0m\n\u001b[1;32m---> 26\u001b[1;33m \u001b[0mobj\u001b[0m\u001b[1;33m=\u001b[0m\u001b[0moffice\u001b[0m\u001b[1;33m(\u001b[0m\u001b[1;34m'ram'\u001b[0m\u001b[1;33m,\u001b[0m\u001b[1;36m15000\u001b[0m\u001b[1;33m,\u001b[0m\u001b[1;34m'kathmandu'\u001b[0m\u001b[1;33m)\u001b[0m\u001b[1;33m\u001b[0m\u001b[1;33m\u001b[0m\u001b[0m\n\u001b[0m\u001b[0;32m     27\u001b[0m \u001b[0mobj\u001b[0m\u001b[1;33m.\u001b[0m\u001b[0moff\u001b[0m\u001b[1;33m(\u001b[0m\u001b[1;33m)\u001b[0m\u001b[1;33m\u001b[0m\u001b[1;33m\u001b[0m\u001b[0m\n\u001b[0;32m     28\u001b[0m \u001b[0mobj\u001b[0m\u001b[1;33m.\u001b[0m\u001b[0macc\u001b[0m\u001b[1;33m(\u001b[0m\u001b[1;33m)\u001b[0m\u001b[1;33m\u001b[0m\u001b[1;33m\u001b[0m\u001b[0m\n",
      "\u001b[1;31mTypeError\u001b[0m: office() takes no arguments"
     ]
    }
   ],
   "source": [
    "class account: \n",
    "    def _init_(self,sal):\n",
    "        self.sal=sal\n",
    "       \n",
    "        \n",
    "    def acc(self):\n",
    "        print('hello world my salary is ',self.sal)\n",
    "        \n",
    "class info(): \n",
    "    def _init_(self,addr):\n",
    "        self.addr=addr\n",
    "       \n",
    "        \n",
    "    def acc(self):\n",
    "        print('hello world i am from  ',self.addr)\n",
    "        \n",
    "class office(info, account):\n",
    "    def _init_(self,name,sal,addr):\n",
    "        self.name=name\n",
    "        account._init_(self,sal)\n",
    "        info._init_(self,addr)\n",
    "        \n",
    "    def off(self):\n",
    "        print(f\"hello wolrd i am {self.name} my salary is {self.sal}\")\n",
    "    \n",
    "obj=office('ram',15000,'kathmandu')\n",
    "obj.off()\n",
    "obj.acc()"
   ]
  },
  {
   "cell_type": "code",
   "execution_count": 19,
   "id": "09a0f377",
   "metadata": {},
   "outputs": [
    {
     "name": "stdout",
     "output_type": "stream",
     "text": [
      "hello wolrd i am ram my salary is 15000\n",
      "hello world my salary is  15000\n",
      "hello world i am from   kathmandu\n",
      "hello world my salary is  15000\n"
     ]
    }
   ],
   "source": [
    "class account: \n",
    "    def __init__(self,sal):\n",
    "        self.sal=sal\n",
    "       \n",
    "        \n",
    "    def acc(self):\n",
    "        print('hello world my salary is ',self.sal)\n",
    "        \n",
    "class info(): \n",
    "    def __init__(self,addr):\n",
    "        self.addr=addr\n",
    "       \n",
    "        \n",
    "    def info(self):\n",
    "        print('hello world i am from  ',self.addr)\n",
    "        \n",
    "class office(info, account):\n",
    "    def __init__(self,name,sal,addr):\n",
    "        self.name=name\n",
    "        account.__init__(self,sal)\n",
    "        info.__init__(self,addr)\n",
    "        \n",
    "    def off(self):\n",
    "        print(f\"hello wolrd i am {self.name} my salary is {self.sal}\")\n",
    "        account.acc(self)\n",
    "        super().info()\n",
    "    \n",
    "obj=office('ram',15000,'kathmandu')\n",
    "obj.off()\n",
    "obj.acc()"
   ]
  },
  {
   "cell_type": "code",
   "execution_count": 21,
   "id": "212e9ea8",
   "metadata": {},
   "outputs": [
    {
     "name": "stdout",
     "output_type": "stream",
     "text": [
      "hello wolrd i am ram my salary is 15000\n",
      "hello world my salary is  15000\n",
      "hello world i am from   kathmandu\n",
      "hello world my salary is  15000\n",
      "ram kathmandu 15000\n"
     ]
    }
   ],
   "source": [
    "class account: \n",
    "    def __init__(self,sal):\n",
    "        self.sal=sal\n",
    "       \n",
    "        \n",
    "    def acc(self):\n",
    "        print('hello world my salary is ',self.sal)\n",
    "        \n",
    "class info(): \n",
    "    def __init__(self,addr):\n",
    "        self.addr=addr\n",
    "       \n",
    "        \n",
    "    def info(self):\n",
    "        print('hello world i am from  ',self.addr)\n",
    "        \n",
    "class office(info, account):\n",
    "    def __init__(self,name,sal,addr):\n",
    "        self.name=name\n",
    "        account.__init__(self,sal)\n",
    "        info.__init__(self,addr)\n",
    "        \n",
    "    def off(self):\n",
    "        print(f\"hello wolrd i am {self.name} my salary is {self.sal}\")\n",
    "        account.acc(self)\n",
    "        super().info()\n",
    "    \n",
    "obj=office('ram',15000,'kathmandu')\n",
    "obj.off()\n",
    "obj.acc()\n",
    "print(obj.name,obj.addr,obj.sal)"
   ]
  },
  {
   "cell_type": "code",
   "execution_count": 1,
   "id": "089b4bf5",
   "metadata": {},
   "outputs": [],
   "source": [
    "#private\n",
    "#protected\n",
    "#public"
   ]
  },
  {
   "cell_type": "code",
   "execution_count": 3,
   "id": "53bf49f4",
   "metadata": {},
   "outputs": [
    {
     "name": "stdout",
     "output_type": "stream",
     "text": [
      "ram\n",
      "67\n"
     ]
    }
   ],
   "source": [
    "#public\n",
    "class info:\n",
    "    def __init__(self,name,age):\n",
    "        self.name=name\n",
    "        self.age=age\n",
    "obj=info('ram',67)\n",
    "print(obj.name)\n",
    "print(obj.age)"
   ]
  },
  {
   "cell_type": "code",
   "execution_count": 5,
   "id": "55fa1051",
   "metadata": {},
   "outputs": [
    {
     "name": "stdout",
     "output_type": "stream",
     "text": [
      "ram\n",
      "67\n"
     ]
    }
   ],
   "source": [
    "#protected only use in insite class and use oustide as oustide\n",
    "class info:\n",
    "    def __init__(self,name,age):\n",
    "        self._name=name\n",
    "        self._age=age\n",
    "obj=info('ram',67)\n",
    "print(obj._name)\n",
    "print(obj._age)"
   ]
  },
  {
   "cell_type": "code",
   "execution_count": 6,
   "id": "921d46b2",
   "metadata": {},
   "outputs": [
    {
     "ename": "AttributeError",
     "evalue": "'info' object has no attribute '__name'",
     "output_type": "error",
     "traceback": [
      "\u001b[1;31m---------------------------------------------------------------------------\u001b[0m",
      "\u001b[1;31mAttributeError\u001b[0m                            Traceback (most recent call last)",
      "\u001b[1;32m<ipython-input-6-b1e62096e03c>\u001b[0m in \u001b[0;36m<module>\u001b[1;34m\u001b[0m\n\u001b[0;32m      5\u001b[0m         \u001b[0mself\u001b[0m\u001b[1;33m.\u001b[0m\u001b[0m__age\u001b[0m\u001b[1;33m=\u001b[0m\u001b[0mage\u001b[0m\u001b[1;33m\u001b[0m\u001b[1;33m\u001b[0m\u001b[0m\n\u001b[0;32m      6\u001b[0m \u001b[0mobj\u001b[0m\u001b[1;33m=\u001b[0m\u001b[0minfo\u001b[0m\u001b[1;33m(\u001b[0m\u001b[1;34m'ram'\u001b[0m\u001b[1;33m,\u001b[0m\u001b[1;36m67\u001b[0m\u001b[1;33m)\u001b[0m\u001b[1;33m\u001b[0m\u001b[1;33m\u001b[0m\u001b[0m\n\u001b[1;32m----> 7\u001b[1;33m \u001b[0mprint\u001b[0m\u001b[1;33m(\u001b[0m\u001b[0mobj\u001b[0m\u001b[1;33m.\u001b[0m\u001b[0m__name\u001b[0m\u001b[1;33m)\u001b[0m\u001b[1;33m\u001b[0m\u001b[1;33m\u001b[0m\u001b[0m\n\u001b[0m\u001b[0;32m      8\u001b[0m \u001b[0mprint\u001b[0m\u001b[1;33m(\u001b[0m\u001b[0mobj\u001b[0m\u001b[1;33m.\u001b[0m\u001b[0m__age\u001b[0m\u001b[1;33m)\u001b[0m\u001b[1;33m\u001b[0m\u001b[1;33m\u001b[0m\u001b[0m\n",
      "\u001b[1;31mAttributeError\u001b[0m: 'info' object has no attribute '__name'"
     ]
    }
   ],
   "source": [
    "#private can access from oustide but access by develeoper on debuging\n",
    "class info:\n",
    "    def __init__(self,name,age):\n",
    "        self.__name=name #doubleunderscore\n",
    "        self.__age=age\n",
    "obj=info('ram',67)\n",
    "print(obj.__name)\n",
    "print(obj.__age)"
   ]
  },
  {
   "cell_type": "code",
   "execution_count": 7,
   "id": "4ed47b5f",
   "metadata": {},
   "outputs": [
    {
     "name": "stdout",
     "output_type": "stream",
     "text": [
      "ram\n",
      "67\n"
     ]
    }
   ],
   "source": [
    "#private\n",
    "class info:\n",
    "    def __init__(self,name,age):\n",
    "        self.__name=name #doubleunderscore\n",
    "        self.__age=age\n",
    "obj=info('ram',67)\n",
    "print(obj._info__name)\n",
    "print(obj._info__age)"
   ]
  },
  {
   "cell_type": "code",
   "execution_count": 15,
   "id": "416e40af",
   "metadata": {},
   "outputs": [
    {
     "name": "stdout",
     "output_type": "stream",
     "text": [
      "hello wolrd i am ram my salary is 15000\n",
      "hello world my salary is  15000\n"
     ]
    },
    {
     "ename": "AttributeError",
     "evalue": "'super' object has no attribute 'info'",
     "output_type": "error",
     "traceback": [
      "\u001b[1;31m---------------------------------------------------------------------------\u001b[0m",
      "\u001b[1;31mAttributeError\u001b[0m                            Traceback (most recent call last)",
      "\u001b[1;32m<ipython-input-15-9d7d1c51204f>\u001b[0m in \u001b[0;36m<module>\u001b[1;34m\u001b[0m\n\u001b[0;32m     27\u001b[0m \u001b[1;33m\u001b[0m\u001b[0m\n\u001b[0;32m     28\u001b[0m \u001b[0mobj\u001b[0m\u001b[1;33m=\u001b[0m\u001b[0moffice\u001b[0m\u001b[1;33m(\u001b[0m\u001b[1;34m'ram'\u001b[0m\u001b[1;33m,\u001b[0m\u001b[1;36m15000\u001b[0m\u001b[1;33m,\u001b[0m\u001b[1;34m'kathmandu'\u001b[0m\u001b[1;33m)\u001b[0m\u001b[1;33m\u001b[0m\u001b[1;33m\u001b[0m\u001b[0m\n\u001b[1;32m---> 29\u001b[1;33m \u001b[0mobj\u001b[0m\u001b[1;33m.\u001b[0m\u001b[0moff\u001b[0m\u001b[1;33m(\u001b[0m\u001b[1;33m)\u001b[0m\u001b[1;33m\u001b[0m\u001b[1;33m\u001b[0m\u001b[0m\n\u001b[0m\u001b[0;32m     30\u001b[0m \u001b[0mobj\u001b[0m\u001b[1;33m.\u001b[0m\u001b[0macc\u001b[0m\u001b[1;33m(\u001b[0m\u001b[1;33m)\u001b[0m\u001b[1;33m\u001b[0m\u001b[1;33m\u001b[0m\u001b[0m\n\u001b[0;32m     31\u001b[0m \u001b[0mprint\u001b[0m\u001b[1;33m(\u001b[0m\u001b[0mobj\u001b[0m\u001b[1;33m.\u001b[0m\u001b[0mname\u001b[0m\u001b[1;33m,\u001b[0m\u001b[0mobj\u001b[0m\u001b[1;33m.\u001b[0m\u001b[0maddr\u001b[0m\u001b[1;33m,\u001b[0m\u001b[0mobj\u001b[0m\u001b[1;33m.\u001b[0m\u001b[0m_sal\u001b[0m\u001b[1;33m)\u001b[0m\u001b[1;33m\u001b[0m\u001b[1;33m\u001b[0m\u001b[0m\n",
      "\u001b[1;32m<ipython-input-15-9d7d1c51204f>\u001b[0m in \u001b[0;36moff\u001b[1;34m(self)\u001b[0m\n\u001b[0;32m     24\u001b[0m         \u001b[0mprint\u001b[0m\u001b[1;33m(\u001b[0m\u001b[1;34mf\"hello wolrd i am {self.name} my salary is {self._sal}\"\u001b[0m\u001b[1;33m)\u001b[0m\u001b[1;33m\u001b[0m\u001b[1;33m\u001b[0m\u001b[0m\n\u001b[0;32m     25\u001b[0m         \u001b[0maccount\u001b[0m\u001b[1;33m.\u001b[0m\u001b[0macc\u001b[0m\u001b[1;33m(\u001b[0m\u001b[0mself\u001b[0m\u001b[1;33m)\u001b[0m\u001b[1;33m\u001b[0m\u001b[1;33m\u001b[0m\u001b[0m\n\u001b[1;32m---> 26\u001b[1;33m         \u001b[0msuper\u001b[0m\u001b[1;33m(\u001b[0m\u001b[1;33m)\u001b[0m\u001b[1;33m.\u001b[0m\u001b[0minfo\u001b[0m\u001b[1;33m(\u001b[0m\u001b[1;33m)\u001b[0m\u001b[1;33m\u001b[0m\u001b[1;33m\u001b[0m\u001b[0m\n\u001b[0m\u001b[0;32m     27\u001b[0m \u001b[1;33m\u001b[0m\u001b[0m\n\u001b[0;32m     28\u001b[0m \u001b[0mobj\u001b[0m\u001b[1;33m=\u001b[0m\u001b[0moffice\u001b[0m\u001b[1;33m(\u001b[0m\u001b[1;34m'ram'\u001b[0m\u001b[1;33m,\u001b[0m\u001b[1;36m15000\u001b[0m\u001b[1;33m,\u001b[0m\u001b[1;34m'kathmandu'\u001b[0m\u001b[1;33m)\u001b[0m\u001b[1;33m\u001b[0m\u001b[1;33m\u001b[0m\u001b[0m\n",
      "\u001b[1;31mAttributeError\u001b[0m: 'super' object has no attribute 'info'"
     ]
    }
   ],
   "source": [
    "class account: \n",
    "    def __init__(self,sal):\n",
    "        self._sal=sal\n",
    "       \n",
    "        \n",
    "    def acc(self):\n",
    "        print('hello world my salary is ',self._sal)\n",
    "        \n",
    "class info(): \n",
    "    def __init__(self,addr):\n",
    "        self.addr=addr\n",
    "       \n",
    "        \n",
    "    def infoo(self):\n",
    "        print('hello world i am from  ',self.addr)\n",
    "        \n",
    "class office(info, account):\n",
    "    def __init__(self,name,sal,addr):\n",
    "        self.name=name\n",
    "        account.__init__(self,sal)\n",
    "        info.__init__(self,addr)\n",
    "        \n",
    "    def off(self):\n",
    "        print(f\"hello wolrd i am {self.name} my salary is {self._sal}\")\n",
    "        account.acc(self)\n",
    "        super().info()\n",
    "    \n",
    "obj=office('ram',15000,'kathmandu')\n",
    "obj.off()\n",
    "obj.acc()\n",
    "print(obj.name,obj.addr,obj._sal)"
   ]
  },
  {
   "cell_type": "code",
   "execution_count": 16,
   "id": "821acbdb",
   "metadata": {},
   "outputs": [
    {
     "name": "stdout",
     "output_type": "stream",
     "text": [
      "hello wolrd i am ram my salary is 15000\n",
      "hello world my salary is  15000\n",
      "hello world my salary is  15000\n"
     ]
    }
   ],
   "source": [
    "class account: \n",
    "    def __init__(self,sal):\n",
    "        self._sal=sal\n",
    "       \n",
    "        \n",
    "    def acc(self):\n",
    "        print('hello world my salary is ',self._sal)\n",
    "        \n",
    "class info(): \n",
    "    def __init__(self,addr):\n",
    "        self.__addr=addr\n",
    "       \n",
    "        \n",
    "    def info(self):\n",
    "        print('hello world i am from  ',self.__addr)\n",
    "        \n",
    "class office(info, account):\n",
    "    def __init__(self,name,sal,addr):\n",
    "        self.name=name\n",
    "        account.__init__(self,sal)\n",
    "        info.__init__(self,addr)\n",
    "        \n",
    "    def off(self):\n",
    "        print(f\"hello wolrd i am {self.name} my salary is {self._sal}\")\n",
    "        account.acc(self)\n",
    "        #super().info()\n",
    "    \n",
    "obj=office('ram',15000,'kathmandu')\n",
    "obj.off()\n",
    "obj.acc()\n",
    "#print(obj.name,obj._info.__addr,obj._sal)"
   ]
  },
  {
   "cell_type": "code",
   "execution_count": null,
   "id": "5bc1e179",
   "metadata": {},
   "outputs": [],
   "source": []
  }
 ],
 "metadata": {
  "kernelspec": {
   "display_name": "Python 3",
   "language": "python",
   "name": "python3"
  },
  "language_info": {
   "codemirror_mode": {
    "name": "ipython",
    "version": 3
   },
   "file_extension": ".py",
   "mimetype": "text/x-python",
   "name": "python",
   "nbconvert_exporter": "python",
   "pygments_lexer": "ipython3",
   "version": "3.8.8"
  }
 },
 "nbformat": 4,
 "nbformat_minor": 5
}
