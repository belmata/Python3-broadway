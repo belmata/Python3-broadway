{
 "cells": [
  {
   "cell_type": "code",
   "execution_count": 1,
   "id": "e51b6a28",
   "metadata": {},
   "outputs": [],
   "source": [
    "#f = open('<file_name>','<mode>')"
   ]
  },
  {
   "cell_type": "code",
   "execution_count": 2,
   "id": "2ac68ad2",
   "metadata": {},
   "outputs": [],
   "source": [
    "f=open('data.txt','x') # create afile mode x\n",
    "\n",
    "f.close() #close file when u open file, its complusary to close file"
   ]
  },
  {
   "cell_type": "code",
   "execution_count": 3,
   "id": "49f8b349",
   "metadata": {},
   "outputs": [
    {
     "name": "stdout",
     "output_type": "stream",
     "text": [
      "1. hello world\n",
      "2. hello world\n",
      "3. hello world\n",
      "\n"
     ]
    }
   ],
   "source": [
    "f=open('data.txt','r')\n",
    "print(f.read())\n",
    "f.close()"
   ]
  },
  {
   "cell_type": "code",
   "execution_count": 4,
   "id": "366353c0",
   "metadata": {},
   "outputs": [
    {
     "name": "stdout",
     "output_type": "stream",
     "text": [
      "1. hello world\n",
      "\n"
     ]
    }
   ],
   "source": [
    "f=open('data.txt','r')\n",
    "print(f.readline()) # one line means whole paragraph before enter\n",
    "f.close()"
   ]
  },
  {
   "cell_type": "code",
   "execution_count": 5,
   "id": "adfc689b",
   "metadata": {},
   "outputs": [
    {
     "name": "stdout",
     "output_type": "stream",
     "text": [
      "1. hello w\n"
     ]
    }
   ],
   "source": [
    "f=open('data.txt','r')\n",
    "print(f.read(10)) # print 10 charcters\n",
    "f.close()"
   ]
  },
  {
   "cell_type": "code",
   "execution_count": 13,
   "id": "98c0bb29",
   "metadata": {},
   "outputs": [
    {
     "name": "stdout",
     "output_type": "stream",
     "text": [
      "enter n= 5\n",
      "5.hello word1.hello word1.hello word1.hello word\n",
      "\n"
     ]
    }
   ],
   "source": [
    "f=open('data.txt','r')\n",
    "n=int(input('enter n= '))\n",
    "total_line=7\n",
    "for i in range(1,total_line+1):\n",
    "    if i!=n:\n",
    "        f.readline()\n",
    "    else:\n",
    "        print(f.readline())\n",
    "#print(f.readline())\n",
    "f.close()"
   ]
  },
  {
   "cell_type": "code",
   "execution_count": 11,
   "id": "6a70ba4c",
   "metadata": {},
   "outputs": [
    {
     "name": "stdout",
     "output_type": "stream",
     "text": [
      "1. hello world\n",
      "2. hello world\n",
      "3. hello world\n",
      "4. hello world\n",
      "5. hello world\n",
      "6. hello world\n",
      "7. hello world\n",
      "\n",
      "<class 'str'>\n"
     ]
    }
   ],
   "source": [
    "f=open('data.txt','r')\n",
    "b=f.read()\n",
    "print(b)\n",
    "print(type(b))\n",
    "f.close()"
   ]
  },
  {
   "cell_type": "code",
   "execution_count": 12,
   "id": "bc500d6d",
   "metadata": {},
   "outputs": [
    {
     "data": {
      "text/plain": [
       "['1. hello world',\n",
       " '2. hello world',\n",
       " '3. hello world',\n",
       " '4. hello world',\n",
       " '5. hello world',\n",
       " '6. hello world',\n",
       " '7. hello world',\n",
       " '']"
      ]
     },
     "execution_count": 12,
     "metadata": {},
     "output_type": "execute_result"
    }
   ],
   "source": [
    "b.split('\\n')"
   ]
  },
  {
   "cell_type": "code",
   "execution_count": 14,
   "id": "b194f98b",
   "metadata": {},
   "outputs": [],
   "source": [
    "#adding the content(write mode) .previous data lai overwrite garxa, if pahile file xaina vane pahile file create garxa then write garxa it means wite and append is same\n",
    "f=open('data.txt','w')\n",
    "f.write('hello word')\n",
    "f.close()"
   ]
  },
  {
   "cell_type": "code",
   "execution_count": 4,
   "id": "d93aa0c1",
   "metadata": {},
   "outputs": [
    {
     "name": "stdout",
     "output_type": "stream",
     "text": [
      "enter n= 2\n",
      "enter name=apple\n",
      "enter price=100\n",
      "enter qty=3\n",
      "enter name=ball\n",
      "enter price=1008\n",
      "enter qty=8\n",
      "apple 100 3 300\n",
      "ball 1008 8 8064\n",
      "\n"
     ]
    }
   ],
   "source": [
    "f= open('bill.txt','w')\n",
    "n=int(input('enter n= '))\n",
    "data=str()\n",
    "net_price=0\n",
    "for i in range(n):\n",
    "    name=input('enter name=')\n",
    "    price=int(input('enter price='))\n",
    "    quantity=int(input('enter qty='))\n",
    "    total=price*quantity\n",
    "    \n",
    "    info=f\"{name} {price} {quantity} {total}\\n\"\n",
    "    data=data+info\n",
    "    net_price=net_price+total\n",
    "print(data)\n",
    "\n",
    "    \n",
    "f.write(data)\n",
    "f.close()"
   ]
  },
  {
   "cell_type": "code",
   "execution_count": 5,
   "id": "84e3f565",
   "metadata": {},
   "outputs": [
    {
     "name": "stdout",
     "output_type": "stream",
     "text": [
      "enter n= 2\n",
      "enter name=coke\n",
      "enter price=200\n",
      "enter qty=2\n",
      "enter name=jiuce\n",
      "enter price=25\n",
      "enter qty=25\n",
      "coke 200 2 400\n",
      "jiuce 25 25 625\n",
      "\n"
     ]
    }
   ],
   "source": [
    "f= open('bill.txt','a') # for adding bill to orevious bill\n",
    "n=int(input('enter n= '))\n",
    "data=str()\n",
    "net_price=0\n",
    "for i in range(n):\n",
    "    name=input('enter name=')\n",
    "    price=int(input('enter price='))\n",
    "    quantity=int(input('enter qty='))\n",
    "    total=price*quantity\n",
    "    \n",
    "    info=f\"{name} {price} {quantity} {total}\\n\"\n",
    "    data=data+info\n",
    "    net_price=net_price+total\n",
    "print(data)\n",
    "\n",
    "    \n",
    "f.write(data)\n",
    "f.close()"
   ]
  },
  {
   "cell_type": "code",
   "execution_count": 13,
   "id": "134e1a4b",
   "metadata": {},
   "outputs": [
    {
     "name": "stdout",
     "output_type": "stream",
     "text": [
      "enter n= 2\n",
      "enter name=apple\n",
      "enter price=100\n",
      "enter qty=2\n",
      "enter name=banana\n",
      "enter price=250\n",
      "enter qty=3\n",
      "apple,100,2,200\n",
      "banana,250,3,750\n",
      "\n"
     ]
    }
   ],
   "source": [
    "f= open('bill.csv','w') # have to add column in CSV extension\n",
    "f.write('Name, Price,Qty,Total\\n')\n",
    "n=int(input('enter n= '))\n",
    "data=str()\n",
    "net_price=0\n",
    "for i in range(n):\n",
    "    name=input('enter name=')\n",
    "    price=int(input('enter price='))\n",
    "    quantity=int(input('enter qty='))\n",
    "    total=price*quantity\n",
    "    \n",
    "    info=f\"{name},{price},{quantity},{total}\\n\" # need to separate by comman\n",
    "    data=data+info\n",
    "    net_price=net_price+total\n",
    "print(data)\n",
    "\n",
    "    \n",
    "f.write(data)\n",
    "f.close()"
   ]
  },
  {
   "cell_type": "code",
   "execution_count": 14,
   "id": "87515af9",
   "metadata": {},
   "outputs": [
    {
     "name": "stdout",
     "output_type": "stream",
     "text": [
      "Name, Price,Qty,Total\n",
      "apple,100,2,200\n",
      "banana,250,3,750\n",
      "\n"
     ]
    }
   ],
   "source": [
    "b= open('bill.csv') # if mode is not menton then it automatically open in read mode\n",
    "print(b.read())"
   ]
  },
  {
   "cell_type": "code",
   "execution_count": 1,
   "id": "03c80d8c",
   "metadata": {},
   "outputs": [
    {
     "data": {
      "text/html": [
       "<div>\n",
       "<style scoped>\n",
       "    .dataframe tbody tr th:only-of-type {\n",
       "        vertical-align: middle;\n",
       "    }\n",
       "\n",
       "    .dataframe tbody tr th {\n",
       "        vertical-align: top;\n",
       "    }\n",
       "\n",
       "    .dataframe thead th {\n",
       "        text-align: right;\n",
       "    }\n",
       "</style>\n",
       "<table border=\"1\" class=\"dataframe\">\n",
       "  <thead>\n",
       "    <tr style=\"text-align: right;\">\n",
       "      <th></th>\n",
       "      <th>Name</th>\n",
       "      <th>Price</th>\n",
       "      <th>Qty</th>\n",
       "      <th>Total</th>\n",
       "    </tr>\n",
       "  </thead>\n",
       "  <tbody>\n",
       "    <tr>\n",
       "      <th>0</th>\n",
       "      <td>apple</td>\n",
       "      <td>100</td>\n",
       "      <td>2</td>\n",
       "      <td>200</td>\n",
       "    </tr>\n",
       "    <tr>\n",
       "      <th>1</th>\n",
       "      <td>banana</td>\n",
       "      <td>250</td>\n",
       "      <td>3</td>\n",
       "      <td>750</td>\n",
       "    </tr>\n",
       "  </tbody>\n",
       "</table>\n",
       "</div>"
      ],
      "text/plain": [
       "     Name   Price  Qty  Total\n",
       "0   apple     100    2    200\n",
       "1  banana     250    3    750"
      ]
     },
     "execution_count": 1,
     "metadata": {},
     "output_type": "execute_result"
    }
   ],
   "source": [
    "import pandas as pd\n",
    "df=pd.read_csv('bill.csv')\n",
    "df"
   ]
  },
  {
   "cell_type": "code",
   "execution_count": 2,
   "id": "9aae8e9c",
   "metadata": {},
   "outputs": [],
   "source": [
    "import os \n",
    "os.remove('bill.txt')"
   ]
  },
  {
   "cell_type": "code",
   "execution_count": 4,
   "id": "a7288ca5",
   "metadata": {},
   "outputs": [
    {
     "ename": "FileNotFoundError",
     "evalue": "[WinError 3] The system cannot find the path specified: '../Destktop/mwdr385'",
     "output_type": "error",
     "traceback": [
      "\u001b[1;31m---------------------------------------------------------------------------\u001b[0m",
      "\u001b[1;31mFileNotFoundError\u001b[0m                         Traceback (most recent call last)",
      "\u001b[1;32m<ipython-input-4-b8243b455355>\u001b[0m in \u001b[0;36m<module>\u001b[1;34m\u001b[0m\n\u001b[0;32m      1\u001b[0m \u001b[1;32mimport\u001b[0m \u001b[0mos\u001b[0m\u001b[1;33m\u001b[0m\u001b[1;33m\u001b[0m\u001b[0m\n\u001b[1;32m----> 2\u001b[1;33m \u001b[0mos\u001b[0m\u001b[1;33m.\u001b[0m\u001b[0mremove\u001b[0m\u001b[1;33m(\u001b[0m\u001b[1;34m'../Destktop/mwdr385'\u001b[0m\u001b[1;33m)\u001b[0m\u001b[1;33m\u001b[0m\u001b[1;33m\u001b[0m\u001b[0m\n\u001b[0m",
      "\u001b[1;31mFileNotFoundError\u001b[0m: [WinError 3] The system cannot find the path specified: '../Destktop/mwdr385'"
     ]
    }
   ],
   "source": [
    "import os \n",
    "os.remove('../Destktop/mwdr385')"
   ]
  },
  {
   "cell_type": "code",
   "execution_count": null,
   "id": "301c1be8",
   "metadata": {},
   "outputs": [],
   "source": []
  },
  {
   "cell_type": "code",
   "execution_count": 7,
   "id": "58da0132",
   "metadata": {},
   "outputs": [
    {
     "data": {
      "text/plain": [
       "'Untitled Folder\\\\data.txt'"
      ]
     },
     "execution_count": 7,
     "metadata": {},
     "output_type": "execute_result"
    }
   ],
   "source": [
    "import shutil as sh\n",
    "\n",
    "d='Untitled Folder'\n",
    "s='data.txt'\n",
    "sh.copy(s,d)"
   ]
  },
  {
   "cell_type": "code",
   "execution_count": 8,
   "id": "9e1a5033",
   "metadata": {},
   "outputs": [
    {
     "data": {
      "text/plain": [
       "'Untitled Folder1'"
      ]
     },
     "execution_count": 8,
     "metadata": {},
     "output_type": "execute_result"
    }
   ],
   "source": [
    "import shutil as s\n",
    "s.copytree('Untitled Folder','Untitled Folder1') # untitle folder copy to untitle folder 1"
   ]
  },
  {
   "cell_type": "code",
   "execution_count": null,
   "id": "742e005e",
   "metadata": {},
   "outputs": [],
   "source": [
    "import shutil as s"
   ]
  }
 ],
 "metadata": {
  "kernelspec": {
   "display_name": "Python 3",
   "language": "python",
   "name": "python3"
  },
  "language_info": {
   "codemirror_mode": {
    "name": "ipython",
    "version": 3
   },
   "file_extension": ".py",
   "mimetype": "text/x-python",
   "name": "python",
   "nbconvert_exporter": "python",
   "pygments_lexer": "ipython3",
   "version": "3.8.8"
  }
 },
 "nbformat": 4,
 "nbformat_minor": 5
}
